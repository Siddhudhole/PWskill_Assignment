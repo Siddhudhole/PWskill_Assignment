{
 "cells": [
  {
   "cell_type": "markdown",
   "id": "5fb21337-b133-4838-85b4-68d9208444f5",
   "metadata": {},
   "source": [
    "Q1. Create a function which will take a list as an argument and return the product of all the numbers after creating a flat list."
   ]
  },
  {
   "cell_type": "code",
   "execution_count": 44,
   "id": "e55619eb-5592-49de-9099-f46697d0a6f4",
   "metadata": {},
   "outputs": [],
   "source": [
    "def flat_list(l):\n",
    "    flist = []\n",
    "    for item in l:\n",
    "        if type(item) == int :\n",
    "            flist.append(item) \n",
    "            \n",
    "        elif type(item) == list:\n",
    "            for i in item:\n",
    "                if type(i)== int:\n",
    "                    flist.append(i) \n",
    "                    \n",
    "        elif type(item) ==  set :\n",
    "            for i in item :\n",
    "                if type(i) == int :\n",
    "                    flist.append(i) \n",
    "                    \n",
    "        elif type(item) == tuple :\n",
    "            for i in item :\n",
    "                if type(i) == int :\n",
    "                    flist.append(i) \n",
    "                    \n",
    "        elif type(item) == dict :\n",
    "            for i in item.keys():\n",
    "                if type(i) == int :\n",
    "                    flist.append(i) \n",
    "                \n",
    "                    \n",
    "            for j in item.values():\n",
    "                if type(j) == int:\n",
    "                    flist.append(j) \n",
    "                    \n",
    "                elif type(j) == list :\n",
    "                    for p in j :\n",
    "                        if type(p) == int :\n",
    "                            flist.append(p) \n",
    "                elif type(j) == set :\n",
    "                    for p in j :\n",
    "                        if type(p) == int :\n",
    "                            flist.append(p)\n",
    "                        \n",
    "             \n",
    "                    \n",
    "    list_mul = 1\n",
    "    for i in flist:\n",
    "        list_mul = list_mul * i \n",
    "                    \n",
    "   \n",
    "   \n",
    "                     \n",
    "                    \n",
    "                \n",
    "    return list_mul \n",
    "            "
   ]
  },
  {
   "cell_type": "code",
   "execution_count": 47,
   "id": "fed634f0-fa8e-4ae8-b4a7-6612efe4f8a7",
   "metadata": {},
   "outputs": [],
   "source": [
    "in_list = [1,2,3,4, [44,55,66, True], False, (34,56,78,89,34), {1,2,3,3,2,1}, {1:34, \"key2\": [55, 67, 78, 89], 4: (45,\n",
    "22, 61, 34)}, [56, 'data science'], 'Machine Learning']"
   ]
  },
  {
   "cell_type": "code",
   "execution_count": 48,
   "id": "caa67921-ebc6-44d0-897f-cc3684d15245",
   "metadata": {},
   "outputs": [
    {
     "data": {
      "text/plain": [
       "2013730282081706885067571200"
      ]
     },
     "execution_count": 48,
     "metadata": {},
     "output_type": "execute_result"
    }
   ],
   "source": [
    "flat_list(in_list) "
   ]
  },
  {
   "cell_type": "markdown",
   "id": "922c6f6d-bce5-4c7e-9a79-97b96e0a22f6",
   "metadata": {},
   "source": [
    "Q2. Write a python program for encrypting a message sent to you by your friend. The logic of encryption\n",
    "should be such that, for a the output should be z. For b, the output should be y. For c, the output should\n",
    "be x respectively. Also, the whitespace should be replaced with a dollar sign. Keep the punctuation\n",
    "marks unchanged.\n",
    "                \n",
    "          "
   ]
  },
  {
   "cell_type": "markdown",
   "id": "aa248fd8-a84c-4702-8f65-70a51d879fb7",
   "metadata": {},
   "source": [
    "in_str = 'I want to become a Data Scientist.'  "
   ]
  },
  {
   "cell_type": "code",
   "execution_count": 148,
   "id": "add46c12-aea1-48c6-994f-93583ca1c2f9",
   "metadata": {},
   "outputs": [],
   "source": [
    "def encrypting(in_str):\n",
    "    role = {'a':'z','b':'y','c':'z',' ':'$'}\n",
    "    encrypting_str = ''\n",
    "    in_str = in_str.lower()\n",
    "    \n",
    "    for i in in_str:\n",
    "        if i in role:\n",
    "            encrypting_str += role[i] \n",
    "        else :\n",
    "            encrypting_str += i \n",
    "    return encrypting_str \n",
    "            \n",
    "            \n",
    "            "
   ]
  },
  {
   "cell_type": "code",
   "execution_count": 149,
   "id": "e9674e73-d4c1-4cf6-a370-e5a3e0af02e0",
   "metadata": {},
   "outputs": [],
   "source": [
    "in_str = 'I want to become a Data Scientist.' "
   ]
  },
  {
   "cell_type": "code",
   "execution_count": 150,
   "id": "2ac4605f-26db-400e-a579-3f55557f91eb",
   "metadata": {},
   "outputs": [
    {
     "data": {
      "text/plain": [
       "'i$wznt$to$yezome$z$dztz$szientist.'"
      ]
     },
     "execution_count": 150,
     "metadata": {},
     "output_type": "execute_result"
    }
   ],
   "source": [
    "encrypting(in_str) "
   ]
  }
 ],
 "metadata": {
  "kernelspec": {
   "display_name": "Python 3 (ipykernel)",
   "language": "python",
   "name": "python3"
  },
  "language_info": {
   "codemirror_mode": {
    "name": "ipython",
    "version": 3
   },
   "file_extension": ".py",
   "mimetype": "text/x-python",
   "name": "python",
   "nbconvert_exporter": "python",
   "pygments_lexer": "ipython3",
   "version": "3.10.8"
  }
 },
 "nbformat": 4,
 "nbformat_minor": 5
}
