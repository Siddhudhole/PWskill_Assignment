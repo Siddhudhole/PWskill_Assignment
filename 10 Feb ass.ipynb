{
 "cells": [
  {
   "cell_type": "markdown",
   "id": "7a9781d2-4c5e-48db-84e7-92aaa1f6c831",
   "metadata": {},
   "source": [
    "Q1. Which function is used to open a file? What are the different modes of opening a file? Explain each mode\n",
    "of file opening."
   ]
  },
  {
   "cell_type": "markdown",
   "id": "cbe45e8f-d688-4b77-8a4c-2dde20b2bc81",
   "metadata": {},
   "source": [
    "In Python, the open() function is used to open a file. The open() function takes two arguments: the name of the file, and the mode in which the file should be opene\n",
    "\n",
    "'r'       open for reading (default)\n",
    "\n",
    "'w'       open for writing, truncating the file first\n",
    "\n",
    "'x'       create a new file and open it for writing\n",
    "\n",
    "'a'       open for writing, appending to the end of the file if it exists\n",
    "\n",
    "'b'       binary mode\n",
    "\n",
    "'t'       text mode (default)\n",
    "\n",
    "'+'       open a disk file for updating (reading and writing)\n",
    "\n",
    "'U'       universal newline mode (deprecated)"
   ]
  },
  {
   "cell_type": "markdown",
   "id": "7e36c8c1-4825-4852-aa7e-eee8b4988e28",
   "metadata": {},
   "source": [
    "Q2. Why close() function is used? Why is it important to close a file?"
   ]
  },
  {
   "cell_type": "markdown",
   "id": "d8a3339f-7ecf-476d-b701-d370b51e72f3",
   "metadata": {},
   "source": [
    "ANS  :  \n",
    "The close() function is used in Python to close an open file. When a file is opened in Python, a file object is created to represent the file in the computer's memory. This file object is used to perform various operations on the file, such as reading or writing to it. However, once you're done working with a file, it's important to close it to free up the resources it's using and ensure that the file is properly saved on disk."
   ]
  },
  {
   "cell_type": "markdown",
   "id": "2ebbf89d-874b-4cc3-a484-59215a30ef08",
   "metadata": {},
   "source": [
    "Q3. Write a python program to create a text file. Write ‘I want to become a Data Scientist’ in that file. Then\n",
    "close the file. Open this file and read the content of the file."
   ]
  },
  {
   "cell_type": "code",
   "execution_count": 1,
   "id": "1546e161-8001-4e96-b619-3a68022f9746",
   "metadata": {},
   "outputs": [],
   "source": [
    "file = open(\"example.txt\",'w')"
   ]
  },
  {
   "cell_type": "code",
   "execution_count": 2,
   "id": "665ae244-f5a7-4a43-9e30-ae8e7abd818d",
   "metadata": {},
   "outputs": [
    {
     "data": {
      "text/plain": [
       "33"
      ]
     },
     "execution_count": 2,
     "metadata": {},
     "output_type": "execute_result"
    }
   ],
   "source": [
    "file.write(\"I want to become a Data Scientist\")"
   ]
  },
  {
   "cell_type": "code",
   "execution_count": 3,
   "id": "6b836e61-ddd5-4178-9ca9-0bd25cafa84d",
   "metadata": {},
   "outputs": [],
   "source": [
    "file.close()"
   ]
  },
  {
   "cell_type": "code",
   "execution_count": 8,
   "id": "01c3e14b-e4c0-4c30-921d-dba5dbf05f20",
   "metadata": {},
   "outputs": [],
   "source": [
    "file = open('example.txt','r')"
   ]
  },
  {
   "cell_type": "code",
   "execution_count": 9,
   "id": "ca983719-cbc0-41b9-9ae6-61e34156c593",
   "metadata": {},
   "outputs": [
    {
     "data": {
      "text/plain": [
       "'I want to become a Data Scientist'"
      ]
     },
     "execution_count": 9,
     "metadata": {},
     "output_type": "execute_result"
    }
   ],
   "source": [
    "file.read()"
   ]
  },
  {
   "cell_type": "markdown",
   "id": "956557f1-1dfa-4a6e-882a-b605526d5dfc",
   "metadata": {},
   "source": [
    "Q4. Explain the following with python code: read(), readline() and readlines()."
   ]
  },
  {
   "cell_type": "markdown",
   "id": "033eccb0-233b-446d-95e8-376aa3fbb2dd",
   "metadata": {},
   "source": [
    "ANS : \n",
    "    \n",
    "1)  read(): This method reads the entire contents of a file and returns it as a single string."
   ]
  },
  {
   "cell_type": "code",
   "execution_count": 11,
   "id": "557eebdf-4194-4907-8846-5cf1e618cd7e",
   "metadata": {},
   "outputs": [],
   "source": [
    "with open ('example.txt','r') as f :\n",
    "    con = f.read()"
   ]
  },
  {
   "cell_type": "code",
   "execution_count": 12,
   "id": "106bf98d-6eb9-4436-9007-1ab6a07dd5cf",
   "metadata": {},
   "outputs": [
    {
     "name": "stdout",
     "output_type": "stream",
     "text": [
      "I want to become a Data Scientist\n"
     ]
    }
   ],
   "source": [
    "print(con)"
   ]
  },
  {
   "cell_type": "markdown",
   "id": "7268d211-961d-49b3-834e-c57a334c7c59",
   "metadata": {},
   "source": [
    "2. readline(): This method reads a single line from the file and returns it as a string. This method can be used in a loop to read the entire file line by line."
   ]
  },
  {
   "cell_type": "code",
   "execution_count": 13,
   "id": "880ea4c2-abe9-49a0-aec9-65f79bbbe26f",
   "metadata": {},
   "outputs": [],
   "source": [
    "with open ('example1.txt','w') as f1 :\n",
    "    f1.write(\"The close() function is used in Python to close an open file. When a file is opened in Python, a file object is created to represent the file in the computer's memory. This file object is used to perform various operations on the file, such as reading or writing to it. However, once you're done working with a file, it's important to close it to free up the resources it's using and ensure that the file is properly saved on disk.\")\n",
    "    "
   ]
  },
  {
   "cell_type": "code",
   "execution_count": 14,
   "id": "0588a4ea-8890-48b2-8b65-aaa7fa567b47",
   "metadata": {},
   "outputs": [],
   "source": [
    "f1.close()"
   ]
  },
  {
   "cell_type": "code",
   "execution_count": 2,
   "id": "e33d4449-bcd3-4131-8e95-2debad79aea1",
   "metadata": {},
   "outputs": [
    {
     "name": "stdout",
     "output_type": "stream",
     "text": [
      "The close() function is used in Python to close an open file. When a file is opened in Python, a file object is created to represent the file in the computer's memory. This file object is used to perform various operations on the file, such as reading or writing to it. However, once you're done working with a file, it's important to close it to free up the resources it's using and ensure that the file is properly saved on disk.\n"
     ]
    }
   ],
   "source": [
    "with open(\"example1.txt\", \"r\") as file:\n",
    "    line = file.readline()\n",
    "    while line:\n",
    "        print(line)\n",
    "        line = file.readline()"
   ]
  },
  {
   "cell_type": "markdown",
   "id": "d16d8883-e276-41ca-9d9c-c43bb1381d1d",
   "metadata": {},
   "source": [
    "3. readlines(): This method reads the entire file and returns a list of strings, where each string is a line from the file."
   ]
  },
  {
   "cell_type": "code",
   "execution_count": 4,
   "id": "4cf43c73-2355-47b1-94b8-fac8c26a4061",
   "metadata": {},
   "outputs": [
    {
     "name": "stdout",
     "output_type": "stream",
     "text": [
      "The close() function is used in Python to close an open file. When a file is opened in Python, a file object is created to represent the file in the computer's memory. This file object is used to perform various operations on the file, such as reading or writing to it. However, once you're done working with a file, it's important to close it to free up the resources it's using and ensure that the file is properly saved on disk.\n"
     ]
    }
   ],
   "source": [
    "with open(\"example1.txt\", \"r\") as file:\n",
    "    lines = file.readlines()\n",
    "    for line in lines:\n",
    "        print(line)"
   ]
  },
  {
   "cell_type": "markdown",
   "id": "30a40508-eaaf-4952-8409-147475b042f7",
   "metadata": {},
   "source": [
    "Q5. Explain why with statement is used with open(). What is the advantage of using with statement and\n",
    "open() together?"
   ]
  },
  {
   "cell_type": "markdown",
   "id": "b215fe7d-2d98-49b4-be5d-9f7205365889",
   "metadata": {},
   "source": [
    "ANS : \n",
    "The with statement is often used in conjunction with the open() function in Python because it provides a convenient and clean way to handle files. When you use a with statement, you don't need to explicitly close the file after you're done working with it. Instead, the with statement automatically closes the file for you, even if an exception occurs."
   ]
  },
  {
   "cell_type": "markdown",
   "id": "3205b1b0-8694-4abb-afb6-d3735ae7510f",
   "metadata": {},
   "source": [
    "Q6. Explain the write() and writelines() functions. Give a suitable example."
   ]
  },
  {
   "cell_type": "markdown",
   "id": "ba6f65b9-7dba-4927-a930-332027e22a9c",
   "metadata": {},
   "source": [
    "ANS :\n",
    "\n",
    "    write(): This function writes a string to the file. The string must be specified as an argument to the write() function.\n",
    "    For example:"
   ]
  },
  {
   "cell_type": "code",
   "execution_count": 5,
   "id": "f71ef916-07b0-4e69-a194-1519c1e0f31e",
   "metadata": {},
   "outputs": [],
   "source": [
    "with open(\"file.txt\", \"w\") as file:\n",
    "    file.write(\"i am siddhu\")"
   ]
  },
  {
   "cell_type": "markdown",
   "id": "e9ad9a29-4228-4228-abb2-f8ccd5e5126c",
   "metadata": {},
   "source": [
    "writelines(): This function writes a list of strings to the file. The list of strings must be specified as an argument to the writelines() function.\n",
    "\n",
    "For example:"
   ]
  },
  {
   "cell_type": "code",
   "execution_count": 6,
   "id": "39a7664f-b1a8-422a-a8ec-20263597c156",
   "metadata": {},
   "outputs": [],
   "source": [
    "with open(\"file.txt\", \"w\") as file:\n",
    "    lines = ['i am siddhu', \"i from Nagpur\"]\n",
    "    file.writelines(lines)"
   ]
  }
 ],
 "metadata": {
  "kernelspec": {
   "display_name": "Python 3 (ipykernel)",
   "language": "python",
   "name": "python3"
  },
  "language_info": {
   "codemirror_mode": {
    "name": "ipython",
    "version": 3
   },
   "file_extension": ".py",
   "mimetype": "text/x-python",
   "name": "python",
   "nbconvert_exporter": "python",
   "pygments_lexer": "ipython3",
   "version": "3.10.8"
  }
 },
 "nbformat": 4,
 "nbformat_minor": 5
}
