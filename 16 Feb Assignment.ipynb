{
 "cells": [
  {
   "cell_type": "markdown",
   "id": "20c6d325-9e6c-4235-9f18-42263705459d",
   "metadata": {},
   "source": [
    "Q1. What is a database? Differentiate between SQL and NoSQL databases."
   ]
  },
  {
   "cell_type": "markdown",
   "id": "613d4139-2170-4cf8-a90f-80290885b14d",
   "metadata": {},
   "source": [
    "SQL :  RELATIONAL DATABASE MANAGEMENT SYSTEM (RDBMS)\n",
    "Nosq :  Non-relational or distributed database system."
   ]
  },
  {
   "cell_type": "markdown",
   "id": "d70b2531-f72a-4875-8b95-481653560e98",
   "metadata": {},
   "source": [
    "ANS : \n",
    "    \n",
    "A database is a collection of data that is organized in a systematic way, making it easy to access, manage, and update. "
   ]
  },
  {
   "cell_type": "markdown",
   "id": "0ab33d3d-6357-4691-90ad-665dbd485700",
   "metadata": {},
   "source": [
    "SQL : Relational database management system \n",
    "\n",
    "\n",
    "NOSQL : Non-relational or distributed database system."
   ]
  },
  {
   "cell_type": "markdown",
   "id": "0c045c76-fe8f-4449-bfbf-a95d70f49a2b",
   "metadata": {},
   "source": [
    "SQL : These databases have fixed or static or predefined schema\n",
    "\n",
    "NOSQL :  They have dynamic schema"
   ]
  },
  {
   "cell_type": "markdown",
   "id": "bcb64a5e-0b9c-4408-97ee-22c6d4f4237c",
   "metadata": {},
   "source": [
    "SQL : These databases are not suited for hierarchical data storage.\n",
    "\n",
    "NOSQL : These databases are best suited for hierarchical data storage."
   ]
  },
  {
   "cell_type": "markdown",
   "id": "aaf12be4-443e-4786-87fd-06b165c9c50f",
   "metadata": {},
   "source": [
    "SQL : Examples: MySQL, PostgreSQL, Oracle, MS-SQL Server, etc\n",
    "\n",
    "NOSQL :  Examples: MongoDB, GraphQL, HBase, Neo4j, Cassandra, etc "
   ]
  },
  {
   "cell_type": "markdown",
   "id": "836af1d7-01ac-4943-af55-125359f2f8ae",
   "metadata": {},
   "source": [
    "Q2. What is DDL? Explain why CREATE, DROP, ALTER, and TRUNCATE are used with an example."
   ]
  },
  {
   "cell_type": "markdown",
   "id": "080abb63-0ba2-4d9c-b239-fef692c22f5c",
   "metadata": {},
   "source": [
    "ANS : \n",
    "    \n",
    "DDL stands for Data Definition Language. It is a set of SQL commands used to define, modify, and delete database objects such as tables, indexes, constraints, and views. The four primary commands in DDL are CREATE, DROP, ALTER, and TRUNCATE."
   ]
  },
  {
   "cell_type": "markdown",
   "id": "73ee8c8a-18cc-4c80-b8ca-f4b5f20c54b9",
   "metadata": {},
   "source": [
    "1. CREATE: \n",
    "\n",
    "CREATE is used to create new database objects such as tables, views, indexes, and stored procedures."
   ]
  },
  {
   "cell_type": "markdown",
   "id": "2ec0d97b-b5e0-4ee6-afc3-5e328eb180d7",
   "metadata": {},
   "source": [
    "CREATE DATABASES TEST_DATABASE;\n",
    "\n",
    "USE TEST_DATABASE ;\n",
    "\n",
    "CREATE TABLE STUDENT(C1 INT,C2 VARCHAR(20),C2 INT);"
   ]
  },
  {
   "cell_type": "markdown",
   "id": "55a5351b-6b4a-405a-9b39-f32c0977cdc8",
   "metadata": {},
   "source": [
    "DROP:\n",
    "\n",
    "DROP is used to delete an existing database object. \n"
   ]
  },
  {
   "cell_type": "markdown",
   "id": "8a5d04fe-6f56-43a3-96b6-6b13d7f71c6d",
   "metadata": {},
   "source": [
    "DROP TABLE STUDENT;"
   ]
  },
  {
   "cell_type": "markdown",
   "id": "498b61c3-0930-45ac-9e34-09bf10758488",
   "metadata": {},
   "source": [
    "ALTER:\n",
    "    \n",
    "ALTER is used to modify an existing database object such as a table or column.  \n",
    "\n",
    "ALTER TABLE ADD COULMN Name VARCHAR(24);"
   ]
  },
  {
   "cell_type": "markdown",
   "id": "49e3c4d0-78f3-4ea1-b710-d5197d95d3c8",
   "metadata": {},
   "source": [
    "TRUNCATE "
   ]
  },
  {
   "cell_type": "markdown",
   "id": "5389f552-1de3-4df5-b5f1-a5082b292947",
   "metadata": {},
   "source": [
    "The TRUNCATE TABLE command deletes the data inside a table, but not the table itself."
   ]
  },
  {
   "cell_type": "markdown",
   "id": "be2d7fd7-704c-4e04-9eed-4df0788ec4df",
   "metadata": {},
   "source": [
    "Q3. What is DML? Explain INSERT, UPDATE, and DELETE with an example.\n",
    "\n",
    "ANS :  Stand for  data manipulation language statements are used to retrieve, add, delete, and modify the data that is stored in the objects of database.\n",
    "\n",
    "A) INSERT : The INSERT statement is used to insert a new row in the database that is adding data to a table.\n",
    "\n",
    "EXAMPLE :  INSERT INTO STUDENTS VALUES(123,'SIDDHU',21);\n",
    "\n",
    "b) UPDATE : The UPDATE statement is used to update the data or row in the table.\n",
    "\n",
    "EXAMPLE :   UPDATE STUDENTS SET C2 = 'BABLU' WHERE C1 = 123 ;\n",
    "\n",
    "C) DELETE :   The DELETE statement is used to delete existing records in a table.\n",
    "\n",
    "EXAMPLE :  DELETE FROM STUDENTS WHERE C2='BABLU';"
   ]
  },
  {
   "cell_type": "markdown",
   "id": "131ce6f3-f6ff-4fb6-8250-62305860c14f",
   "metadata": {},
   "source": [
    "Q4. What is DQL? Explain SELECT with an example.\n",
    "\n",
    "ANS :  DQL stand for  Data Query Language  DQL statements are used for performing queries on the data within schema objects. \n",
    "    \n",
    "    \n",
    "SELECT :   SELECT  statement retrieves records from a database table according to clauses (for example, FROM and WHERE ) that specify criteria.\n",
    "\n",
    "EXAMPLE :  SELECT * FROM STUDENTS ;"
   ]
  },
  {
   "cell_type": "markdown",
   "id": "cfe5696b-cff8-4f0a-b553-4ab6944341bc",
   "metadata": {},
   "source": [
    "Q5. Explain Primary Key and Foreign Key.\n",
    "\n",
    "ANS :  \n",
    "    \n",
    "PRIMARY KEY :  A primary key is the column or columns that contain values that uniquely identify each row in a table. A database table must have a primary key for Optim to insert, update, restore, or delete data from a database table.\n",
    "\n",
    "FOREIGN KEY :  A foreign key is a column (or combination of columns) in a table whose values must match values of a column in some other table. FOREIGN KEY constraints enforce referential integrity, which essentially says that if column value A refers to column value B, then column value B must exist."
   ]
  },
  {
   "cell_type": "markdown",
   "id": "f6659dda-5f46-40f1-80fc-2f7190b65713",
   "metadata": {},
   "source": [
    "Q6. Write a python code to connect MySQL to python. Explain the cursor() and execute() method.\n"
   ]
  },
  {
   "cell_type": "markdown",
   "id": "5f2c5371-ca96-45fe-bc06-64fb3b42f757",
   "metadata": {},
   "source": [
    "import mysql.connector \n",
    "\n",
    "mydb = mysql.connector.connect(\n",
    "host = 'localhost',\n",
    "user = 'abc',\n",
    "password = 'password')\n",
    "\n",
    "print(mydb)"
   ]
  },
  {
   "cell_type": "markdown",
   "id": "8ab35277-2418-4efd-88fc-44f85d67e2c1",
   "metadata": {},
   "source": [
    "cursor :  It is an object that is used to make the connection for executing SQL queries. It acts as middleware between SQLite database connection and SQL query. It is created after giving connection to SQLite database.\n",
    "\n",
    "execute :  To execute a SQL query in Python, you'll need to use a cursor, which abstracts away the access to database records. MySQL Connector/Python provides you with the MySQLCursor class, which instantiates objects that can execute MySQL queries in Python. An instance of the MySQLCursor class is also called a cursor ."
   ]
  },
  {
   "cell_type": "markdown",
   "id": "e6a5069c-a2e2-417f-b988-459982fa1e68",
   "metadata": {},
   "source": [
    "Q7. Give the order of execution of SQL clauses in an SQL query."
   ]
  },
  {
   "cell_type": "markdown",
   "id": "65237143-e529-4eae-8394-29b6962ac474",
   "metadata": {},
   "source": [
    "1. FROM/JOIN: The FROM and/or JOIN clauses are executed first to determine the data of interest.\n",
    "\n",
    "2. WHERE: The WHERE clause is executed to filter out records that do not meet the constraints.\n",
    "\n",
    "3. GROUP BY: The GROUP BY clause is executed to group the data based on the values in one or more columns.\n",
    "\n",
    "4. HAVING: The HAVING clause is executed to remove the created grouped records that don’t meet the constraints.\n",
    "\n",
    "5. SELECT: The SELECT clause is executed to derive all desired columns and expressions.\n",
    "\n",
    "6. ORDER BY: The ORDER BY clause is executed to sort the derived values in ascending or descending order.\n",
    "\n",
    "7. LIMIT/OFFSET: Finally, the LIMIT and/or OFFSET clauses are executed to keep or skip a specified number of rows."
   ]
  },
  {
   "cell_type": "code",
   "execution_count": null,
   "id": "bd2c67fb-1758-4735-a1c0-f5295ca6b756",
   "metadata": {},
   "outputs": [],
   "source": []
  }
 ],
 "metadata": {
  "kernelspec": {
   "display_name": "Python 3 (ipykernel)",
   "language": "python",
   "name": "python3"
  },
  "language_info": {
   "codemirror_mode": {
    "name": "ipython",
    "version": 3
   },
   "file_extension": ".py",
   "mimetype": "text/x-python",
   "name": "python",
   "nbconvert_exporter": "python",
   "pygments_lexer": "ipython3",
   "version": "3.10.8"
  }
 },
 "nbformat": 4,
 "nbformat_minor": 5
}
