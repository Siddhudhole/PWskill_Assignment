{
 "cells": [
  {
   "cell_type": "markdown",
   "id": "99d9c040-4ce1-45ab-94d3-43691d4b39a9",
   "metadata": {},
   "source": [
    "Q1. Write a Python function that takes in two arrays of data and calculates the F-value for a variance ratio\n",
    "test. The function should return the F-value and the corresponding p-value for the test."
   ]
  },
  {
   "cell_type": "code",
   "execution_count": 7,
   "id": "5ace5071-1754-48bc-9bb5-cc0127cfa14c",
   "metadata": {},
   "outputs": [],
   "source": [
    "import numpy as np\n",
    "from scipy.stats import f\n",
    "\n",
    "def f_test(data1, data2):\n",
    "    \n",
    "    n1 = len(data1)\n",
    "    n2 = len(data2)\n",
    "    var1 = np.var(data1, ddof=1)\n",
    "    var2 = np.var(data2, ddof=1)\n",
    "\n",
    "    if var1 > var2:\n",
    "        f_stat = var1 / var2\n",
    "        dfn = n1 - 1\n",
    "        dfd = n2 - 1\n",
    "    else:\n",
    "        f_stat = var2 / var1\n",
    "        dfn = n2 - 1\n",
    "        dfd = n1 - 1\n",
    "\n",
    "    p_value = 1 - f.cdf(f_stat, dfn, dfd)\n",
    "\n",
    "    return f_stat, p_value\n"
   ]
  },
  {
   "cell_type": "code",
   "execution_count": 8,
   "id": "aef7ce9f-1ff1-47f6-8635-6c7152d210cf",
   "metadata": {},
   "outputs": [],
   "source": [
    "data1 = np.array([1, 2, 3, 4, 5])\n",
    "data2 = np.array([2, 4, 6, 8, 10])"
   ]
  },
  {
   "cell_type": "code",
   "execution_count": 9,
   "id": "7b062f93-a735-4461-86a9-91a10ce3eaa4",
   "metadata": {},
   "outputs": [
    {
     "data": {
      "text/plain": [
       "(4.0, 0.10399999999999998)"
      ]
     },
     "execution_count": 9,
     "metadata": {},
     "output_type": "execute_result"
    }
   ],
   "source": [
    "f_test(data1,data2)"
   ]
  },
  {
   "cell_type": "markdown",
   "id": "247dc836-2239-4015-9364-267c65f1b875",
   "metadata": {},
   "source": [
    "Q2. Given a significance level of 0.05 and the degrees of freedom for the numerator and denominator of an\n",
    "F-distribution, write a Python function that returns the critical F-value for a two-tailed test."
   ]
  },
  {
   "cell_type": "code",
   "execution_count": 10,
   "id": "33bde2cb-8d44-45ae-8df3-fbf818f2009f",
   "metadata": {},
   "outputs": [],
   "source": [
    "def f_critical(alpha,dfn,dfd):\n",
    "    return f.ppf(1-alpha/2,dfn,dfd)"
   ]
  },
  {
   "cell_type": "code",
   "execution_count": 12,
   "id": "4c23aa28-7a6d-4077-8a95-fd7ebaeca29f",
   "metadata": {},
   "outputs": [
    {
     "data": {
      "text/plain": [
       "3.8586986662732143"
      ]
     },
     "execution_count": 12,
     "metadata": {},
     "output_type": "execute_result"
    }
   ],
   "source": [
    "f_critical(0.05,3,20)"
   ]
  },
  {
   "cell_type": "markdown",
   "id": "db0511ff-822a-4277-89a0-59b90805f8dd",
   "metadata": {},
   "source": [
    "Q3. Write a Python program that generates random samples from two normal distributions with known\n",
    "\n",
    "variances and uses an F-test to determine if the variances are equal. The program should output the F-\n",
    "value, degrees of freedom, and p-value for the test."
   ]
  },
  {
   "cell_type": "code",
   "execution_count": 18,
   "id": "26c4e6c1-bb70-4610-8c20-95292ce18099",
   "metadata": {},
   "outputs": [
    {
     "name": "stdout",
     "output_type": "stream",
     "text": [
      "F-Value :  0.6666666666666666\n",
      "Degrees of freedom : 29 and 39\n",
      "P-value : 0.129557806831869\n"
     ]
    }
   ],
   "source": [
    "np.random.seed(42)\n",
    "n1 = 30 \n",
    "n2 = 40\n",
    "var1 = 4\n",
    "var2 = 6 \n",
    "mean1 = 10\n",
    "mean2 = 12\n",
    "\n",
    "data1 = np.random.normal(mean1,np.sqrt(var1),n1)\n",
    "data2 = np.random.normal(mean2,np.sqrt(var2),n2)\n",
    "\n",
    "f_stats = var1 /var2\n",
    "\n",
    "\n",
    "\n",
    "dfn = n1-1\n",
    "dfd = n2-1 \n",
    "\n",
    "p_value = f.cdf(f_stats,dfn,dfd)\n",
    "\n",
    "print(\"F-Value : \",f_stats)\n",
    "print(\"Degrees of freedom :\",dfn,\"and\",dfd)\n",
    "print(\"P-value :\",p_value)"
   ]
  },
  {
   "cell_type": "markdown",
   "id": "a020d931-0784-4bc2-a67a-6dd8588809bf",
   "metadata": {},
   "source": [
    "Q4.The variances of two populations are known to be 10 and 15. A sample of 12 observations is taken from\n",
    "each population. Conduct an F-test at the 5% significance level to determine if the variances are\n",
    "significantly different."
   ]
  },
  {
   "cell_type": "markdown",
   "id": "a3ac4276-aeab-4cf5-a1e9-9e37bc3c2f04",
   "metadata": {},
   "source": [
    "H0  :  null hypothesis is that the variances of the two populations are equal,"
   ]
  },
  {
   "cell_type": "markdown",
   "id": "7840fe58-70fa-4a6f-80c2-a21808d3ac96",
   "metadata": {},
   "source": [
    "H1 = alternative hypothesis is that they are not equal."
   ]
  },
  {
   "cell_type": "code",
   "execution_count": 21,
   "id": "6e6750b7-afe9-47ef-81e9-e5ed0f2f0d1f",
   "metadata": {},
   "outputs": [
    {
     "name": "stdout",
     "output_type": "stream",
     "text": [
      "0.5102693924869068\n",
      "Fail to reject the null hypothesis.\n"
     ]
    }
   ],
   "source": [
    "import numpy as np \n",
    "# from scipy import f \n",
    "\n",
    "np.random.seed(234)\n",
    "\n",
    "# define Data size \n",
    "n1 = 12\n",
    "n2 = 12 \n",
    "\n",
    "# define the variances of each sample\n",
    "var1 = 10\n",
    "var2 = 15\n",
    "\n",
    "data1 = np.random.normal(0,np.sqrt(var1),n1)\n",
    "data2 = np.random.normal(0,np.sqrt(var2),n2)\n",
    "\n",
    "## calculate the sample variances \n",
    "\n",
    "s1 = np.var(data1)\n",
    "s2 = np.var(data2)\n",
    "\n",
    "# calculate the F-Test statistic\n",
    "f_stats = s1/s2\n",
    "\n",
    "# calculate the degrees of freedom\n",
    "dfn = n1-1 \n",
    "dfd = n2-1\n",
    "\n",
    "# calculate the p_value \n",
    "p_value = f.sf(f_stats,dfn,dfd)\n",
    "\n",
    "# Compare the p-value to the significance level and make a decision\n",
    "alpha = 0.05\n",
    "\n",
    "print(p_value)\n",
    "\n",
    "if p_value > alpha :\n",
    "    print(\"Fail to reject the null hypothesis.\")\n",
    "    \n",
    "else :\n",
    "    print(\"Reject the null hypothesis.\")\n"
   ]
  },
  {
   "cell_type": "markdown",
   "id": "f515dadd-85f6-4c46-b664-069c27bdbdd4",
   "metadata": {},
   "source": [
    "Q5. A manufacturer claims that the variance of the diameter of a certain product is 0.005. A sample of 25\n",
    "products is taken, and the sample variance is found to be 0.006. Conduct an F-test at the 1% significance\n",
    "level to determine if the claim is justified."
   ]
  },
  {
   "cell_type": "code",
   "execution_count": 23,
   "id": "cd74a74b-fd2d-4329-a475-28ca80447e84",
   "metadata": {},
   "outputs": [
    {
     "name": "stdout",
     "output_type": "stream",
     "text": [
      "Fail to reject the null hypothesis.\n",
      "F-value: 1.2\n",
      "Degrees of freedom: 24 and inf\n",
      "p-value: nan\n"
     ]
    }
   ],
   "source": [
    "import numpy as np\n",
    "from scipy.stats import f\n",
    "\n",
    "# Define the sample size, sample variance, and claimed population variance\n",
    "n = 25\n",
    "s_squared = 0.006\n",
    "sigma_squared = 0.005\n",
    "\n",
    "# Calculate the F-test statistic\n",
    "F = s_squared / sigma_squared\n",
    "\n",
    "# Calculate the degrees of freedom\n",
    "dfn = n - 1\n",
    "dfd = np.inf\n",
    "\n",
    "# Calculate the p-value\n",
    "p_value = f.sf(F, dfn, dfd)\n",
    "\n",
    "# Compare the p-value to the significance level and make a decision\n",
    "alpha = 0.01\n",
    "if p_value < alpha:\n",
    "    print(\"Reject the null hypothesis.\")\n",
    "else:\n",
    "    print(\"Fail to reject the null hypothesis.\")\n",
    "    \n",
    "# Output the results\n",
    "print(\"F-value:\", F)\n",
    "print(\"Degrees of freedom:\", dfn, \"and\", dfd)\n",
    "print(\"p-value:\", p_value)\n"
   ]
  },
  {
   "cell_type": "markdown",
   "id": "9019be89-2838-4c8a-9663-70d473446f41",
   "metadata": {},
   "source": [
    "Q6. Write a Python function that takes in the degrees of freedom for the numerator and denominator of an\n",
    "F-distribution and calculates the mean and variance of the distribution. The function should return the\n",
    "mean and variance as a tuple."
   ]
  },
  {
   "cell_type": "code",
   "execution_count": 24,
   "id": "5e86a260-da0b-49ff-b409-081e6666a87d",
   "metadata": {},
   "outputs": [],
   "source": [
    "def f_distribution_mean_and_variance(dfn, dfd):\n",
    "    mean = dfd / (dfd - 2)\n",
    "    variance = (2 * dfd**2 * (dfn + dfd - 2)) / (dfn * (dfd - 2)**2 * (dfd - 4))\n",
    "    return (mean, variance)\n"
   ]
  },
  {
   "cell_type": "code",
   "execution_count": 25,
   "id": "6c66e55d-453a-4682-9c31-54fde58dbc09",
   "metadata": {},
   "outputs": [
    {
     "name": "stdout",
     "output_type": "stream",
     "text": [
      "Mean: 1.25\n",
      "Variance: 1.9097222222222223\n"
     ]
    }
   ],
   "source": [
    "mean, variance = f_distribution_mean_and_variance(3, 10)\n",
    "print(\"Mean:\", mean)\n",
    "print(\"Variance:\", variance)"
   ]
  },
  {
   "cell_type": "markdown",
   "id": "2e24e5e6-c80e-4a51-afd3-465a1703f448",
   "metadata": {},
   "source": [
    "Q7. A random sample of 10 measurements is taken from a normal population with unknown variance. The\n",
    "sample variance is found to be 25. Another random sample of 15 measurements is taken from another\n",
    "normal population with unknown variance, and the sample variance is found to be 20. Conduct an F-test\n",
    "at the 10% significance level to determine if the variances are significantly different."
   ]
  },
  {
   "cell_type": "markdown",
   "id": "434d8d1b-d3f0-48cf-89ce-51a8b6014bd6",
   "metadata": {},
   "source": [
    "H0 :  null hypothesis that the variances are equal.\n",
    "\n",
    "\n",
    "H1 :  alternative hypothesis that the variances are equal."
   ]
  },
  {
   "cell_type": "code",
   "execution_count": 28,
   "id": "1c8ee555-8455-47d0-896f-ba46d2d36048",
   "metadata": {},
   "outputs": [
    {
     "name": "stdout",
     "output_type": "stream",
     "text": [
      "Fail to reject the null hypothesis\n"
     ]
    }
   ],
   "source": [
    "import scipy.stats as stats\n",
    "\n",
    "s1 = 25 \n",
    "s2 = 20\n",
    "\n",
    "# sample sizes \n",
    "n1 = 10\n",
    "n2 = 15\n",
    "\n",
    "# calculate the F-Statistic \n",
    "F = s1/s2\n",
    "\n",
    "# calculate the p-Value \n",
    "p_value = stats.f.cdf(F,dfn,dfd)\n",
    "alpha = 0.1\n",
    "\n",
    "if p_value < alpha :\n",
    "    print(\"Fail to reject the null hypothesis\")\n",
    "    \n",
    "else :\n",
    "    print(\"Reject the null hypothesis\")"
   ]
  },
  {
   "cell_type": "markdown",
   "id": "70096bd7-b37c-473f-b7a3-357f062351d9",
   "metadata": {},
   "source": [
    "Q8. The following data represent the waiting times in minutes at two different restaurants on a Saturday\n",
    "night: Restaurant A: 24, 25, 28, 23, 22, 20, 27; Restaurant B: 31, 33, 35, 30, 32, 36. Conduct an F-test at the 5%\n",
    "significance level to determine if the variances are significantly different."
   ]
  },
  {
   "cell_type": "markdown",
   "id": "5d2d600d-b9bc-4826-bcaa-8d5fdf494ff0",
   "metadata": {},
   "source": [
    "H0 :  variances are significantly different.\n",
    "\n",
    "H1 :  variances are significantly equal."
   ]
  },
  {
   "cell_type": "code",
   "execution_count": 31,
   "id": "26101d41",
   "metadata": {},
   "outputs": [
    {
     "name": "stdout",
     "output_type": "stream",
     "text": [
      "Fail to reject the null hypothesis that the variances are equal.\n"
     ]
    }
   ],
   "source": [
    "import numpy as np\n",
    "import scipy.stats as stats\n",
    "\n",
    "# Sample data\n",
    "data_A = np.array([24, 25, 28, 23, 22, 20, 27])\n",
    "data_B = np.array([31, 33, 35, 30, 32, 36])\n",
    "\n",
    "# Sample variances\n",
    "s1_squared = np.var(data_A, ddof=1)\n",
    "s2_squared = np.var(data_B, ddof=1)\n",
    "\n",
    "# Sample sizes\n",
    "n1 = len(data_A)\n",
    "n2 = len(data_B)\n",
    "\n",
    "# Calculate the F-statistic\n",
    "F = s1_squared / s2_squared\n",
    "\n",
    "# Degrees of freedom\n",
    "dfn = n1 - 1\n",
    "dfd = n2 - 1\n",
    "\n",
    "# Calculate the p-value and compare to the significance level\n",
    "p_value = stats.f.cdf(F, dfn, dfd)\n",
    "alpha = 0.05\n",
    "\n",
    "if p_value < alpha/2 or p_value > 1 - alpha/2:\n",
    "    print(\"Reject the null hypothesis that the variances are equal.\")\n",
    "else:\n",
    "    print(\"Fail to reject the null hypothesis that the variances are equal.\")\n"
   ]
  },
  {
   "cell_type": "markdown",
   "id": "87ae161d-4149-444d-ade2-1b82bc9d5c12",
   "metadata": {},
   "source": [
    "Q9. The following data represent the test scores of two groups of students: Group A: 80, 85, 90, 92, 87, 83;\n",
    "Group B: 75, 78, 82, 79, 81, 84. Conduct an F-test at the 1% significance level to determine if the variances\n",
    "are significantly different."
   ]
  },
  {
   "cell_type": "markdown",
   "id": "f6d58612-bfb1-4f6a-b592-61d32c688451",
   "metadata": {},
   "source": [
    "Null hypothesis: The variances of both populations are equal.\n",
    "\n",
    "\n",
    "Alternative hypothesis: The variances of the two populations are not equal."
   ]
  },
  {
   "cell_type": "code",
   "execution_count": null,
   "id": "8d2001a2-1e06-4fee-b2f6-dc52de54414c",
   "metadata": {},
   "outputs": [],
   "source": []
  }
 ],
 "metadata": {
  "kernelspec": {
   "display_name": "Python 3 (ipykernel)",
   "language": "python",
   "name": "python3"
  },
  "language_info": {
   "codemirror_mode": {
    "name": "ipython",
    "version": 3
   },
   "file_extension": ".py",
   "mimetype": "text/x-python",
   "name": "python",
   "nbconvert_exporter": "python",
   "pygments_lexer": "ipython3",
   "version": "3.10.8"
  }
 },
 "nbformat": 4,
 "nbformat_minor": 5
}
