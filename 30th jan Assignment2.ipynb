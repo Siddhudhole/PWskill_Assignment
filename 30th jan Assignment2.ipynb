{
 "cells": [
  {
   "cell_type": "markdown",
   "id": "0749ac14-226b-452d-b434-582d0a6bf261",
   "metadata": {},
   "source": [
    "Write a program to accept percentage from the user and display the grade according to the following criteria "
   ]
  },
  {
   "cell_type": "code",
   "execution_count": 2,
   "id": "bd822bd8-0f77-47da-8e67-a80673130b88",
   "metadata": {},
   "outputs": [
    {
     "name": "stdin",
     "output_type": "stream",
     "text": [
      "Enter Your Marks : 100\n"
     ]
    },
    {
     "name": "stdout",
     "output_type": "stream",
     "text": [
      "Your Grade is A\n"
     ]
    }
   ],
   "source": [
    "marks = int (input(\"Enter Your Marks :\"))\n",
    "\n",
    "if marks >90:\n",
    "    \n",
    "    print(\"Your Grade is A\")\n",
    "    \n",
    "elif marks > 80 and  marks<= 90:\n",
    "    \n",
    "    print(\"Your Grade is B\")\n",
    "    \n",
    "elif marks>= 60 and marks<= 80 :\n",
    "    \n",
    "    print(\"Your Grade is C\")\n",
    "    \n",
    "else :\n",
    "    \n",
    "    print(\"Your Grade is D\")"
   ]
  },
  {
   "cell_type": "markdown",
   "id": "6e9b2224-b655-4104-8b6e-f23e3439b8ae",
   "metadata": {},
   "source": [
    "Write a program to accept the cost price of a bike and display the road tax to be paid accoring to the following criteria "
   ]
  },
  {
   "cell_type": "code",
   "execution_count": 4,
   "id": "a0baa0ab-f06e-4d67-8ccf-9c56792bc3c1",
   "metadata": {},
   "outputs": [
    {
     "name": "stdin",
     "output_type": "stream",
     "text": [
      "Enter bike price : 100000\n"
     ]
    },
    {
     "name": "stdout",
     "output_type": "stream",
     "text": [
      "Your paid road Tax 10%\n"
     ]
    }
   ],
   "source": [
    "price = int (input(\"Enter bike price :\"))\n",
    "\n",
    "if price > 100000:\n",
    "    print(\"Your paid road Tax 15%\")\n",
    "    \n",
    "elif price >50000 and price <=100000:\n",
    "    print(\"Your paid road Tax 10%\")\n",
    "    \n",
    "else :\n",
    "    print(\"Your paid road Tax 5%\")"
   ]
  },
  {
   "cell_type": "markdown",
   "id": "615e8927-7ed0-4648-b50e-d34243b577a5",
   "metadata": {},
   "source": [
    "Q.3  Accept and city from the user and display monuments of that city."
   ]
  },
  {
   "cell_type": "code",
   "execution_count": 7,
   "id": "53a21874-0a87-4a2b-a6b4-b37d5b307c0a",
   "metadata": {},
   "outputs": [
    {
     "name": "stdin",
     "output_type": "stream",
     "text": [
      "Enter City : agra\n"
     ]
    },
    {
     "name": "stdout",
     "output_type": "stream",
     "text": [
      "Taj Mahal\n"
     ]
    }
   ],
   "source": [
    "city = input('Enter City :')\n",
    "city = city.capitalize()\n",
    "\n",
    "if city == 'Delhi':\n",
    "    print('Red Fort')\n",
    "    \n",
    "elif city == 'Agra':\n",
    "    print('Taj Mahal')\n",
    "    \n",
    "elif city == 'Jaipur':\n",
    "    print('Jal Mahal')\n",
    "    \n",
    "else:\n",
    "    print('Enter invaid city name ')"
   ]
  },
  {
   "cell_type": "markdown",
   "id": "cf28c701-bfa3-4e2f-8fd4-867a3ea25fe4",
   "metadata": {},
   "source": [
    "Q.4  Check how many times a given number can be divided by 3 before it is less than or equal to 10"
   ]
  },
  {
   "cell_type": "code",
   "execution_count": 16,
   "id": "c68a62c9-8100-483e-94fa-a44ac5e4989c",
   "metadata": {},
   "outputs": [
    {
     "name": "stdout",
     "output_type": "stream",
     "text": [
      "[3, 6, 9]\n"
     ]
    }
   ],
   "source": [
    "l=[]\n",
    "\n",
    "for i in range(1,11):\n",
    "    if i%3 == 0:\n",
    "        \n",
    "        l.append(i)\n",
    "        \n",
    "print(l)\n",
    "        "
   ]
  },
  {
   "cell_type": "markdown",
   "id": "59abe694-dd65-4268-8fd9-3a48713fd60d",
   "metadata": {},
   "source": [
    "Q.5  why and when to use while loop in Python give and detected description with example"
   ]
  },
  {
   "cell_type": "markdown",
   "id": "80da95d5-7b02-4e82-b5bc-b3c336fa9e1a",
   "metadata": {},
   "source": [
    "Ans :  Python while loop is used to run a block code until a certain condition is met. Here, A while loop evaluates the condition. If the condition evaluates to True , the code inside the while loop is executed."
   ]
  },
  {
   "cell_type": "markdown",
   "id": "8b1013e2-1927-4ab4-8581-34d49c1a9166",
   "metadata": {},
   "source": [
    "Q.6  Use nested while loop to print 3 different pattern "
   ]
  },
  {
   "cell_type": "markdown",
   "id": "7af9499e-a6a1-4cec-8b1a-6222603c21c5",
   "metadata": {},
   "source": [
    "Ans : "
   ]
  },
  {
   "cell_type": "code",
   "execution_count": 18,
   "id": "bce80494-d4cb-4551-949b-224790593365",
   "metadata": {},
   "outputs": [
    {
     "name": "stdout",
     "output_type": "stream",
     "text": [
      "1 \n",
      "1 2 \n",
      "1 2 3 \n",
      "1 2 3 4 \n",
      "1 2 3 4 5 \n"
     ]
    }
   ],
   "source": [
    "# 1) pattern \n",
    "i=1\n",
    "while i<=5:\n",
    "    j=1\n",
    "    while j<=i:\n",
    "        print(j,end=\" \")\n",
    "        j=j+1\n",
    "    print(\"\")\n",
    "    i=i+1"
   ]
  },
  {
   "cell_type": "code",
   "execution_count": 19,
   "id": "d13486a9-5c27-43ca-aaff-b14add3c7997",
   "metadata": {},
   "outputs": [
    {
     "name": "stdout",
     "output_type": "stream",
     "text": [
      "0 1 2 3 \n",
      "0 2 4 6 \n",
      "0 3 6 9 \n",
      "0 4 8 12 \n"
     ]
    }
   ],
   "source": [
    "#2) \n",
    "i = 1\n",
    "while i <= 4 :\n",
    "    j = 0\n",
    "    while  j <= 3 :\n",
    "        print(i*j, end=\" \")\n",
    "        j += 1\n",
    "    print()\n",
    "    i += 1"
   ]
  },
  {
   "cell_type": "code",
   "execution_count": 20,
   "id": "c2d30a17-ab4f-4f6d-a0cc-10a159c63df7",
   "metadata": {},
   "outputs": [
    {
     "name": "stdout",
     "output_type": "stream",
     "text": [
      "0 0 0 0 0 0 \n",
      "0 1 2 3 4 5 \n",
      "0 2 4 6 8 10 \n",
      "0 3 6 9 12 15 \n",
      "\n",
      "0 0 0 0 0 0 \n",
      "0 2 4 6 8 10 \n",
      "0 4 8 12 16 20 \n",
      "0 6 12 18 24 30 \n",
      "\n",
      "0 0 0 0 0 0 \n",
      "0 3 6 9 12 15 \n",
      "0 6 12 18 24 30 \n",
      "0 9 18 27 36 45 \n",
      "\n",
      "0 0 0 0 0 0 \n",
      "0 4 8 12 16 20 \n",
      "0 8 16 24 32 40 \n",
      "0 12 24 36 48 60 \n",
      "\n"
     ]
    }
   ],
   "source": [
    "#3) \n",
    "i = 1\n",
    "while i <= 4 :\n",
    "    j = 0\n",
    "    while  j <= 3 :\n",
    "        k = 0\n",
    "        while  k <= 5 :\n",
    "            print(i*j*k, end=\" \")\n",
    "            k += 1\n",
    "        print()\n",
    "        j += 1\n",
    "    print()\n",
    "    i += 1\n"
   ]
  },
  {
   "cell_type": "markdown",
   "id": "d370e489-0eae-46f7-bdce-ffc5f3fec1e8",
   "metadata": {},
   "source": [
    "Q.7 Reverse a while loop to display number from 10 to 1  "
   ]
  },
  {
   "cell_type": "code",
   "execution_count": 31,
   "id": "8813f9b3-0a91-44b2-882a-ff134ad28ea2",
   "metadata": {},
   "outputs": [
    {
     "name": "stdout",
     "output_type": "stream",
     "text": [
      "10\n",
      "9\n",
      "8\n",
      "7\n",
      "6\n",
      "5\n",
      "4\n",
      "3\n",
      "2\n",
      "1\n"
     ]
    }
   ],
   "source": [
    "count = 10\n",
    "while count >= 1:\n",
    "    print(count)\n",
    "    count -= 1"
   ]
  },
  {
   "cell_type": "code",
   "execution_count": null,
   "id": "94e3183b-4a6c-4074-a280-afe97a215db1",
   "metadata": {},
   "outputs": [],
   "source": []
  }
 ],
 "metadata": {
  "kernelspec": {
   "display_name": "Python 3 (ipykernel)",
   "language": "python",
   "name": "python3"
  },
  "language_info": {
   "codemirror_mode": {
    "name": "ipython",
    "version": 3
   },
   "file_extension": ".py",
   "mimetype": "text/x-python",
   "name": "python",
   "nbconvert_exporter": "python",
   "pygments_lexer": "ipython3",
   "version": "3.10.8"
  }
 },
 "nbformat": 4,
 "nbformat_minor": 5
}
