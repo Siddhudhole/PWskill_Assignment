{
 "cells": [
  {
   "cell_type": "markdown",
   "id": "de40eef0-9426-4a89-bceb-2a175b1a65ad",
   "metadata": {},
   "source": [
    "Q.1  Explain with an example each when to use a for loop and a while loop."
   ]
  },
  {
   "cell_type": "markdown",
   "id": "25fd5984-6a18-4095-bcbf-a31ca37b406a",
   "metadata": {},
   "source": [
    "ANS :- \n",
    "\n",
    "FOR LOOP : A for loop is used to iterate over a sequence (such as a list, tuple, or string) and execute a block of code for each item in the sequence."
   ]
  },
  {
   "cell_type": "markdown",
   "id": "6c6e6c82-a44a-4e50-b16b-0242922d2fea",
   "metadata": {},
   "source": [
    "EXAMPLE :- "
   ]
  },
  {
   "cell_type": "code",
   "execution_count": 1,
   "id": "ee452603-7985-4514-ac18-9f08077acaa7",
   "metadata": {},
   "outputs": [
    {
     "name": "stdout",
     "output_type": "stream",
     "text": [
      "apple\n",
      "banana\n",
      "cherry\n"
     ]
    }
   ],
   "source": [
    "fruits = [\"apple\", \"banana\", \"cherry\"]\n",
    "for fruit in fruits:\n",
    "    print(fruit)"
   ]
  },
  {
   "cell_type": "markdown",
   "id": "c7d8a102-e8a0-4483-af94-d3f01df8e8e0",
   "metadata": {},
   "source": [
    "WHILE LOOP :  A while loop is used to repeatedly execute a block of code as long as a certain condition is met."
   ]
  },
  {
   "cell_type": "code",
   "execution_count": 2,
   "id": "1e6f0234-e2e0-458f-871a-477cd068a45b",
   "metadata": {},
   "outputs": [
    {
     "name": "stdout",
     "output_type": "stream",
     "text": [
      "The count is 0\n",
      "The count is 1\n",
      "The count is 2\n"
     ]
    }
   ],
   "source": [
    "counter = 0\n",
    "while counter < 3:\n",
    "    print(\"The count is\", counter)\n",
    "    counter = counter + 1"
   ]
  },
  {
   "cell_type": "markdown",
   "id": "860facf7-111d-4a9b-8be6-6d713fc578c5",
   "metadata": {},
   "source": [
    "Q.2 Write a python program to print compute the sum and product of the first 10 natural numbers using for and while loop."
   ]
  },
  {
   "cell_type": "markdown",
   "id": "00875405-e219-4719-ba7b-b61139f46ace",
   "metadata": {},
   "source": [
    "Sum Using for loop :  "
   ]
  },
  {
   "cell_type": "code",
   "execution_count": 4,
   "id": "88aad47f-8c11-42de-b08a-500a7d1df13d",
   "metadata": {},
   "outputs": [
    {
     "name": "stdout",
     "output_type": "stream",
     "text": [
      "55\n"
     ]
    }
   ],
   "source": [
    "sum_num = 0\n",
    "for i in range(1,11):\n",
    "    sum_num = sum_num + i \n",
    "print(sum_num)"
   ]
  },
  {
   "cell_type": "markdown",
   "id": "a09f1005-a6b8-46d9-8534-78d939ec591b",
   "metadata": {},
   "source": [
    "Product using for loop :"
   ]
  },
  {
   "cell_type": "code",
   "execution_count": 6,
   "id": "62e49953-f5b5-4d2b-9341-da54025e0fed",
   "metadata": {},
   "outputs": [
    {
     "name": "stdout",
     "output_type": "stream",
     "text": [
      "3628800\n"
     ]
    }
   ],
   "source": [
    "prod = 1 \n",
    "for i in range(1,11):\n",
    "    prod = prod * i \n",
    "    \n",
    "print(prod) "
   ]
  },
  {
   "cell_type": "markdown",
   "id": "a4be7e25-7e82-497f-90f4-cf852ec4cf02",
   "metadata": {},
   "source": [
    "Sum using while loop :"
   ]
  },
  {
   "cell_type": "code",
   "execution_count": 1,
   "id": "490bd511-de62-4cab-932d-96f295ed5310",
   "metadata": {},
   "outputs": [
    {
     "name": "stdout",
     "output_type": "stream",
     "text": [
      "The sum of the first 10 natural numbers is: 55\n"
     ]
    }
   ],
   "source": [
    "Sum = 0\n",
    "\n",
    "counter = 1\n",
    "while counter <= 10:\n",
    "    Sum = Sum + counter\n",
    "    \n",
    "    counter = counter + 1\n",
    "\n",
    "print(\"The sum of the first 10 natural numbers is:\", Sum)\n"
   ]
  },
  {
   "cell_type": "markdown",
   "id": "a5e99723-8c34-43a4-9a58-10c933f9cf1c",
   "metadata": {},
   "source": [
    "Product using while loop : "
   ]
  },
  {
   "cell_type": "code",
   "execution_count": 2,
   "id": "bf269e9f-9089-409b-99c8-66e38eea682d",
   "metadata": {},
   "outputs": [
    {
     "name": "stdout",
     "output_type": "stream",
     "text": [
      "The product of the first 10 natural numbers is: 3628800\n"
     ]
    }
   ],
   "source": [
    "product = 1 \n",
    "counter = 1\n",
    "while counter <= 10:\n",
    "    product = product * counter \n",
    "    counter = counter + 1 \n",
    "print(\"The product of the first 10 natural numbers is:\", product)"
   ]
  },
  {
   "cell_type": "markdown",
   "id": "c7009c3f-97f3-46c3-adae-24659d167067",
   "metadata": {},
   "source": [
    "Q3. Create a python program to compute the electricity bill for a household.\n",
    "The per-unit charges in rupees are as follows: For the first 100 units, the user will be charged Rs. 4.5 per\n",
    "unit, for the next 100 units, the user will be charged Rs. 6 per unit, and for the next 100 units, the user will\n",
    "be charged Rs. 10 per unit, After 300 units and above the user will be charged Rs. 20 per unit."
   ]
  },
  {
   "cell_type": "code",
   "execution_count": 9,
   "id": "478d56a6-6f9a-45b1-8fed-fbf2ba1d933d",
   "metadata": {},
   "outputs": [
    {
     "name": "stdin",
     "output_type": "stream",
     "text": [
      "Enter unit : 400\n"
     ]
    },
    {
     "name": "stdout",
     "output_type": "stream",
     "text": [
      "Your electricity bill is RS 4050.0\n"
     ]
    }
   ],
   "source": [
    "unit = int (input(\"Enter unit :\"))\n",
    "\n",
    "if unit <=100:\n",
    "    bill = unit * 4.5 \n",
    "    print(\"Your electricity bill is RS\",bill)\n",
    "    \n",
    "elif unit <= 200:\n",
    "    bill = (unit * 4.5) + (unit -100) * 6\n",
    "    print(\"Your electricity bill is RS\",bill)\n",
    "    \n",
    "elif unit <= 300 :\n",
    "    bill = (unit * 4.5) + (unit * 6) + ((unit -200) * 10 )\n",
    "    print(\"Your electricity bill is RS\",bill)\n",
    "    \n",
    "else :\n",
    "    bill = (100 * 4.5) + (100 * 6) + (100 * 10) + ((unit - 300) * 20)\n",
    "    print(\"Your electricity bill is RS\",bill)\n",
    "    \n",
    "          "
   ]
  },
  {
   "cell_type": "markdown",
   "id": "582297f0-ca95-41f5-bfa1-2180c26ca8b2",
   "metadata": {},
   "source": [
    "Q4 .  Create a list of numbers from 1 to 100. Use for loop and while loop to calculate the cube of each\n",
    "number and if the cube of that number is divisible by 4 or 5 then append that number in a list and print\n",
    "that list."
   ]
  },
  {
   "cell_type": "code",
   "execution_count": 12,
   "id": "d196159e-c85d-4c55-9821-d1aa8f4ca31e",
   "metadata": {},
   "outputs": [
    {
     "name": "stdout",
     "output_type": "stream",
     "text": [
      "[4, 5, 8, 10, 12, 15, 16, 20, 24, 25, 28, 30, 32, 35, 36, 40, 44, 45, 48, 50, 52, 55, 56, 60, 64, 65, 68, 70, 72, 75, 76, 80, 84, 85, 88, 90, 92, 95, 96, 100]\n"
     ]
    }
   ],
   "source": [
    "l = []\n",
    "for i in range(1,101):\n",
    "    if i % 4 ==0 or i % 5 ==0:\n",
    "        l.append(i)\n",
    "    \n",
    "print(l)"
   ]
  },
  {
   "cell_type": "markdown",
   "id": "b0bbb602-c6b4-4d04-93cc-d062479e3b2b",
   "metadata": {},
   "source": [
    "Q5 .  Write a program to filter count vowels in the below-given string.\n",
    "string = \"I want to become a data scientist\" "
   ]
  },
  {
   "cell_type": "code",
   "execution_count": 18,
   "id": "36a96e2d-064b-4e0b-821a-56ad7c75189f",
   "metadata": {},
   "outputs": [
    {
     "name": "stdout",
     "output_type": "stream",
     "text": [
      "12\n"
     ]
    }
   ],
   "source": [
    "string = \"I want to become a data scientist\"\n",
    "string = string.lower()\n",
    "\n",
    "l = ['a', 'e', 'i', 'o', 'u',]\n",
    "\n",
    "\n",
    "count = 0 \n",
    "for i in string:\n",
    "    if i in l:\n",
    "        count = count + 1\n",
    "        \n",
    "print (count)\n",
    "    "
   ]
  },
  {
   "cell_type": "code",
   "execution_count": null,
   "id": "81f312a1-bd14-41da-ba3e-e0e411847752",
   "metadata": {},
   "outputs": [],
   "source": []
  }
 ],
 "metadata": {
  "kernelspec": {
   "display_name": "Python 3 (ipykernel)",
   "language": "python",
   "name": "python3"
  },
  "language_info": {
   "codemirror_mode": {
    "name": "ipython",
    "version": 3
   },
   "file_extension": ".py",
   "mimetype": "text/x-python",
   "name": "python",
   "nbconvert_exporter": "python",
   "pygments_lexer": "ipython3",
   "version": "3.10.8"
  }
 },
 "nbformat": 4,
 "nbformat_minor": 5
}
