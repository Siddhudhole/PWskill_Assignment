{
 "cells": [
  {
   "cell_type": "markdown",
   "id": "90efd2f6-b6fe-4d96-8e01-049f0d40e11c",
   "metadata": {},
   "source": [
    "Q.1 what is an Excepation in python ? write the difference between Exception and Syntax error."
   ]
  },
  {
   "cell_type": "markdown",
   "id": "289d79b1-04d8-43a0-abe8-6c33dd079ec6",
   "metadata": {},
   "source": [
    "ANS : \n",
    "    \n",
    "Exception is an error that occurs during the execution of a program. When an error occurs, an exception object is created, which contains information about the error, including the type of error and where it occurred in the program. The exception object is then raised, and the program stops executing.\n",
    "\n",
    "Difference between an exception and a syntax error is that an exception occurs during the execution of the program, while a syntax error occurs before the program is executed. In other words, a syntax error is a mistake in the code that prevents the program from even starting, while an exception is an error that occurs while the program is running.\n",
    "\n",
    "    "
   ]
  },
  {
   "cell_type": "markdown",
   "id": "fbc43917-2950-474c-8941-8787e9369ca6",
   "metadata": {},
   "source": [
    "Q.2 What happens when an exception is not handled ? Explain with an example."
   ]
  },
  {
   "cell_type": "markdown",
   "id": "e987a843-eb32-4288-9258-9b2a81f81d09",
   "metadata": {},
   "source": [
    "ANS :\n",
    "When an exception is not handled in Python, the program will terminate abruptly and an error message will be displayed. This is because the default behavior of Python is to print an error message and stop the program when an unhandled exception occurs.\n",
    "    \n"
   ]
  },
  {
   "cell_type": "code",
   "execution_count": 5,
   "id": "a8d4cec6-afa3-49c6-ab1a-ee14517c52ac",
   "metadata": {},
   "outputs": [],
   "source": [
    "import logging as log \n",
    "log.basicConfig(filename = 'division_by_error.log',level =log.ERROR)\n",
    "\n",
    "\n",
    "x = 10\n",
    "y = 0\n",
    "\n",
    "try:\n",
    "    z = x / y\n",
    "except ZeroDivisionError as e :\n",
    "    log.error(e)"
   ]
  },
  {
   "cell_type": "markdown",
   "id": "93d941a9-145a-4a8e-873f-70178c148e21",
   "metadata": {},
   "source": [
    "Q.3 Which Python statements are used to catch and handle exceptions ? Explain with an example."
   ]
  },
  {
   "cell_type": "markdown",
   "id": "06733fac-eaa8-463d-bfa4-36f8c84deeb7",
   "metadata": {},
   "source": [
    "ANS :  Use try and except statements to catch and handle exceptions."
   ]
  },
  {
   "cell_type": "code",
   "execution_count": 7,
   "id": "34d96401-b922-4ad0-955c-91feb1dc730c",
   "metadata": {},
   "outputs": [
    {
     "name": "stdout",
     "output_type": "stream",
     "text": [
      "[Errno 2] No such file or directory: 'test__.txt'\n"
     ]
    }
   ],
   "source": [
    "try :\n",
    "    with open ('test__.txt','r') as f:\n",
    "        f.read()\n",
    "except Exception as e:\n",
    "    print(e)"
   ]
  },
  {
   "cell_type": "markdown",
   "id": "9a61093b-ce28-4cfb-8917-52f779afad9e",
   "metadata": {},
   "source": [
    "Q.4 Explain with an example :\n",
    "    \n",
    "    a. try and else \n",
    "    b. finally \n",
    "    c. raise \n",
    "    \n",
    "    "
   ]
  },
  {
   "cell_type": "markdown",
   "id": "97273b66-f955-4fe7-9176-3bb1937b9ff0",
   "metadata": {},
   "source": [
    "ANS :\n",
    "    \n",
    "Use a try and else block to specify a block of code to be executed if no exceptions are raised in the try block. \n",
    "\n",
    "try block is succefully excuted then else block is excuted"
   ]
  },
  {
   "cell_type": "markdown",
   "id": "9b07e748-b057-461f-b315-287380040638",
   "metadata": {},
   "source": [
    "a. try and else "
   ]
  },
  {
   "cell_type": "code",
   "execution_count": 8,
   "id": "753d0f50-7ce6-491a-a3c8-c1659380b6bc",
   "metadata": {},
   "outputs": [
    {
     "name": "stdout",
     "output_type": "stream",
     "text": [
      "result =  2.0\n"
     ]
    }
   ],
   "source": [
    "try :\n",
    "    x = 10\n",
    "    y = 5\n",
    "    z = x/y \n",
    "except ZeroDivisionError as e:\n",
    "    print(e)\n",
    "    \n",
    "else :\n",
    "    print('result = ',z)"
   ]
  },
  {
   "cell_type": "markdown",
   "id": "7fafcaee-bd80-411d-88c1-20c2f91fdc2e",
   "metadata": {},
   "source": [
    "b. finally "
   ]
  },
  {
   "cell_type": "markdown",
   "id": "14700997-cb3a-43a5-9e5b-2dffb3ad2f17",
   "metadata": {},
   "source": [
    "ANS :\n",
    "    \n",
    "the finally block is used to specify a block of code to be executed no matter what happens in the try block. The finally block is always executed, whether an exception is raised or not, and regardless of whether there is an except block or not.\n",
    "    \n"
   ]
  },
  {
   "cell_type": "code",
   "execution_count": 9,
   "id": "b0d34b0d-9f07-46bf-9004-26d7ba7f0025",
   "metadata": {},
   "outputs": [],
   "source": [
    "try :\n",
    "    \n",
    "    with open(\"test_file.txt\",'w') as f :\n",
    "        f.write (\"this my file \")\n",
    "        \n",
    "except FileNotFoundError as e:\n",
    "    print(e) \n",
    "    \n",
    "finally :\n",
    "    f.close()"
   ]
  },
  {
   "cell_type": "markdown",
   "id": "6d5e8b59-6c2d-4f66-87f5-551f506a7df1",
   "metadata": {},
   "source": [
    "c. Raise "
   ]
  },
  {
   "cell_type": "code",
   "execution_count": 2,
   "id": "dfc9eeea-7ffe-4f4e-b33b-93fbdc910432",
   "metadata": {},
   "outputs": [],
   "source": [
    "class validateage(Exception):\n",
    "    \n",
    "    def __init__(self,msg):\n",
    "        self.msg = msg "
   ]
  },
  {
   "cell_type": "code",
   "execution_count": 3,
   "id": "0360b7df-fdd9-4661-a90b-ea5e11916531",
   "metadata": {},
   "outputs": [],
   "source": [
    "def vali_age(age):\n",
    "    if age <0 :\n",
    "        raise validateage (\"enter age is negetive \")\n",
    "        \n",
    "    elif age > 200 :\n",
    "        raise validateage (\"enters age is high value \")\n",
    "        \n",
    "    else :\n",
    "        print(\"age is valid\")"
   ]
  },
  {
   "cell_type": "code",
   "execution_count": 4,
   "id": "9aa4f6b9-592a-4631-b8ca-e230329dff8d",
   "metadata": {},
   "outputs": [
    {
     "name": "stdin",
     "output_type": "stream",
     "text": [
      "enter your age -2\n"
     ]
    },
    {
     "name": "stdout",
     "output_type": "stream",
     "text": [
      "enter age is negetive \n"
     ]
    }
   ],
   "source": [
    "try :\n",
    "    age = int (input(\"enter your age\"))\n",
    "    vali_age(age)\n",
    "except validateage as e:\n",
    "    print(e)"
   ]
  },
  {
   "cell_type": "markdown",
   "id": "331a5bf4-03fb-4039-8bee-ae6217c774d5",
   "metadata": {},
   "source": [
    "Q.5 What are custom Exceptions in python ? Why do we need custom Exceptions ? Explain with an example."
   ]
  },
  {
   "cell_type": "markdown",
   "id": "a59d22b0-d1ac-4502-ba1f-73bbeea76758",
   "metadata": {},
   "source": [
    "ANS : \n",
    "    \n",
    "Custom exceptions in Python are user-defined exceptions that allow you to define your own error conditions and raise exceptions when those conditions are met. This can be useful when you want to raise a specific error message that is not available with the built-in Python exceptions. \n",
    "\n",
    "Custom exceptions in Python can be useful for a number of reasons, including:\n",
    "\n",
    "Providing more specific information: Custom exceptions can provide more specific information about what went wrong in a particular piece of code, which can be useful for debugging purposes. By raising a custom exception, you can provide a more detailed error message that describes the nature of the problem.\n",
    "\n",
    "Improving code readability: Custom exceptions can make your code more readable and self-documenting by encapsulating specific error conditions in a well-named class. This can make it easier for other developers to understand what your code is doing, and to handle specific exceptions in a more efficient and organized way."
   ]
  },
  {
   "cell_type": "code",
   "execution_count": 6,
   "id": "53cfe474-7b1c-4988-9555-7e5c32f2a074",
   "metadata": {},
   "outputs": [
    {
     "name": "stdin",
     "output_type": "stream",
     "text": [
      "enter your age -23\n"
     ]
    },
    {
     "name": "stdout",
     "output_type": "stream",
     "text": [
      "enter age is negetive \n"
     ]
    }
   ],
   "source": [
    "class validateage(Exception):\n",
    "    \n",
    "    def __init__(self,msg):\n",
    "        self.msg = msg \n",
    "        \n",
    "        \n",
    "def vali_age(age):\n",
    "    if age <0 :\n",
    "        raise validateage (\"enter age is negetive \")\n",
    "        \n",
    "    elif age > 200 :\n",
    "        raise validateage (\"enters age is high value \")\n",
    "        \n",
    "    else :\n",
    "        print(\"age is valid\")\n",
    "        \n",
    "try :\n",
    "    age = int (input(\"enter your age\"))\n",
    "    vali_age(age)\n",
    "except validateage as e:\n",
    "    print(e)"
   ]
  },
  {
   "cell_type": "markdown",
   "id": "0799cc67-4f59-47fa-86a6-0405c7a488ed",
   "metadata": {},
   "source": [
    "Q.6 Create a custom exception class.Use this class to handle an exception."
   ]
  },
  {
   "cell_type": "code",
   "execution_count": 7,
   "id": "3ebb628f-ec70-49af-b194-aea68ee8191c",
   "metadata": {},
   "outputs": [],
   "source": [
    "class Book_calculator_error (Exception):\n",
    "    \n",
    "    def __init__(self,msg):\n",
    "        self.msg = msg "
   ]
  },
  {
   "cell_type": "code",
   "execution_count": 8,
   "id": "a3a967fd-5352-485a-9212-19b19b20fb5d",
   "metadata": {},
   "outputs": [],
   "source": [
    "def book_error(book_of_num):\n",
    "    if book_of_num < 0:\n",
    "        raise Book_calculator_error(\"Book is not define in Negative\")\n",
    "        \n",
    "    else :\n",
    "        print(\"Total Books is %d\" %book_of_num )"
   ]
  },
  {
   "cell_type": "code",
   "execution_count": 9,
   "id": "5b674258-89f7-4c5a-b7c6-9722a8e285da",
   "metadata": {},
   "outputs": [
    {
     "name": "stdin",
     "output_type": "stream",
     "text": [
      "Enter book number  -3\n"
     ]
    },
    {
     "name": "stdout",
     "output_type": "stream",
     "text": [
      "Book is not define in Negative\n"
     ]
    }
   ],
   "source": [
    "try :\n",
    "    a = int(input('Enter book number '))\n",
    "    book_error(a)\n",
    "    \n",
    "except Book_calculator_error as e :\n",
    "    print(e)\n",
    "    \n",
    "    "
   ]
  }
 ],
 "metadata": {
  "kernelspec": {
   "display_name": "Python 3 (ipykernel)",
   "language": "python",
   "name": "python3"
  },
  "language_info": {
   "codemirror_mode": {
    "name": "ipython",
    "version": 3
   },
   "file_extension": ".py",
   "mimetype": "text/x-python",
   "name": "python",
   "nbconvert_exporter": "python",
   "pygments_lexer": "ipython3",
   "version": "3.10.8"
  }
 },
 "nbformat": 4,
 "nbformat_minor": 5
}
