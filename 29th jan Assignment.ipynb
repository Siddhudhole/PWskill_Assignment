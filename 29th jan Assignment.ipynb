{
 "cells": [
  {
   "cell_type": "markdown",
   "id": "77a24751-465b-4e3a-851c-c25bc731d1df",
   "metadata": {},
   "source": [
    "Q.1 Who developed python programming Language ?"
   ]
  },
  {
   "cell_type": "markdown",
   "id": "7017fdcd-d8b7-41d4-a1aa-d08b6d54b9ce",
   "metadata": {},
   "source": [
    "Ans : Guido van Rossum"
   ]
  },
  {
   "cell_type": "markdown",
   "id": "6ec94f3a-0740-4bcf-9690-676e33d868bc",
   "metadata": {},
   "source": [
    "Q.2 Which type of programming does python support ?"
   ]
  },
  {
   "cell_type": "markdown",
   "id": "78c5e111-3d5b-46f0-bcf7-5ff69c51384c",
   "metadata": {},
   "source": [
    "Ans : Object-oriented programming and structured programming "
   ]
  },
  {
   "cell_type": "markdown",
   "id": "508f250f-a515-40be-b6a9-c9d1e79902ea",
   "metadata": {},
   "source": [
    "Q.3 Is python case sensitive when dealing with identifiers ?"
   ]
  },
  {
   "cell_type": "markdown",
   "id": "bc2e9099-ce63-40bb-970d-9e5f14c1db2b",
   "metadata": {},
   "source": [
    "Ans : Yes, Python is a case-sensitive language \n",
    "       it treats uppercase and lowercase characters differently"
   ]
  },
  {
   "cell_type": "markdown",
   "id": "085888a3-ae1c-4ab6-a681-3f32b2c4ed20",
   "metadata": {},
   "source": [
    "Q4. What is the correct extension of python file?"
   ]
  },
  {
   "cell_type": "markdown",
   "id": "c6cb29e8-8de1-4610-98a5-8385b5c4a995",
   "metadata": {},
   "source": [
    "Ans : .py"
   ]
  },
  {
   "cell_type": "markdown",
   "id": "3d989084-d4cd-43d0-9532-5118f025fc62",
   "metadata": {},
   "source": [
    "Q5. Is python code compiler or interpreter ?"
   ]
  },
  {
   "cell_type": "markdown",
   "id": "958067c4-5354-4525-b8a9-e63d5c794ac8",
   "metadata": {},
   "source": [
    "Ans : Interpreter"
   ]
  },
  {
   "cell_type": "markdown",
   "id": "b0f4aa55-5808-4f05-a058-e5b1e3a0a173",
   "metadata": {},
   "source": [
    "Q6. Name a few block of code used to define in Python language ?"
   ]
  },
  {
   "cell_type": "markdown",
   "id": "1c249248-77c0-4688-9e64-a7ca632d717c",
   "metadata": {},
   "source": [
    "Ans : a module, a function body, and a class definition."
   ]
  },
  {
   "cell_type": "markdown",
   "id": "58d718f4-eeab-4b89-bbc1-6bb8dce0dc0f",
   "metadata": {},
   "source": [
    "Q7. State the character used to give single line comment in Python?"
   ]
  },
  {
   "cell_type": "markdown",
   "id": "075b948b-d1a5-4d5b-8fa7-0d14904876fb",
   "metadata": {},
   "source": [
    "Ans : # "
   ]
  },
  {
   "cell_type": "markdown",
   "id": "bb1c68af-6607-410b-bfd2-8081d10bc1a7",
   "metadata": {},
   "source": [
    "Q8. Mention function which can help to find the version of python that we are currently working on?"
   ]
  },
  {
   "cell_type": "markdown",
   "id": "1097ca00-144a-42b2-87ff-d303b3449180",
   "metadata": {},
   "source": [
    "Ans :  sys.version"
   ]
  },
  {
   "cell_type": "markdown",
   "id": "b2977233-cda2-4acd-b2b7-6ac348ff8556",
   "metadata": {},
   "source": [
    "Q9.  Python supports the creation of anonymous function at a running using construct called---"
   ]
  },
  {
   "cell_type": "markdown",
   "id": "4d64a33a-f3a1-4b9e-82c2-87e84264a8b1",
   "metadata": {},
   "source": [
    "Ans : Lambda"
   ]
  },
  {
   "cell_type": "markdown",
   "id": "36a2514a-8f00-44f2-b7da-b1f9f3a9917b",
   "metadata": {},
   "source": [
    "Q10.  What does pip stand for python?"
   ]
  },
  {
   "cell_type": "markdown",
   "id": "3ab27ea4-5517-4411-852b-39019c943abe",
   "metadata": {},
   "source": [
    "Ans :  preferred installer program"
   ]
  },
  {
   "cell_type": "markdown",
   "id": "fdaa2e43-eae0-4206-aafe-fdc5136d9498",
   "metadata": {},
   "source": [
    "Q11. Mention a few built-in function in python ?"
   ]
  },
  {
   "cell_type": "markdown",
   "id": "94c973b3-d7b5-4f48-97af-b66575d08d50",
   "metadata": {},
   "source": [
    "Ans : print(),type(),input(),sorted(),max(),min()"
   ]
  },
  {
   "cell_type": "markdown",
   "id": "a82ce69f-2438-42b1-986e-7efa19334fd0",
   "metadata": {},
   "source": [
    "Q12.  What is the maximum possible lenth of an identifier in python ?"
   ]
  },
  {
   "cell_type": "markdown",
   "id": "e80aa55d-3b86-4595-9829-01060791ef8e",
   "metadata": {},
   "source": [
    "Ans : 79 characters"
   ]
  },
  {
   "cell_type": "markdown",
   "id": "35e65838-bd32-4cce-8f96-50d9d198e717",
   "metadata": {},
   "source": [
    "Q13. What are the benefits of using python?"
   ]
  },
  {
   "cell_type": "markdown",
   "id": "cfeae881-87f5-4976-be7c-941ac092eb25",
   "metadata": {},
   "source": [
    "Ans : Python programming language is a general-purpose, interpreted, and high-level language that mainly offers code readability. It is largely used by professional programmers and developers across a variety of fields, including Web Development and Machine Learning."
   ]
  },
  {
   "cell_type": "markdown",
   "id": "fb124e7e-5771-4dc6-a94b-81767ad92753",
   "metadata": {},
   "source": [
    "Q14. How is memory managed in python ?"
   ]
  },
  {
   "cell_type": "markdown",
   "id": "e15eb06e-91a5-4782-9def-afe3cad42b3b",
   "metadata": {},
   "source": [
    "Ans : Memory management in Python involves a private heap containing all Python objects and data structures. The management of this private heap is ensured internally by the Python memory manager."
   ]
  },
  {
   "cell_type": "markdown",
   "id": "fef3527b-f658-4942-a821-b9c814e2aeae",
   "metadata": {},
   "source": [
    "Q15. How to install python on windows and set path variables?"
   ]
  },
  {
   "cell_type": "markdown",
   "id": "0cf969a3-2f9f-4d15-a766-87f7d5f2d686",
   "metadata": {},
   "source": [
    "Ans :  1) Open a browser to the Python website and download the Windows installer. \n",
    "2) . Double click on the downloaded file and install Python for all users, and ensure that Python is added to your path. 3) Click on Install now to begin.\n",
    "\n",
    "The complete path of python.exe can be added by:\n",
    "\n",
    "4) Right-clicking This PC and going to Properties.\n",
    "\n",
    "5) Clicking on the Advanced system settings in the menu on the left.\n",
    "\n",
    "6) Clicking on the Environment Variables button o​n the bottom right.\n",
    "\n",
    "7) In the System variables section, selecting the Path variable and clicking on Edit. The next screen will show all the directories that are currently a part of the PATH variable.\n",
    "\n",
    "8) Clicking on New and entering Python’s install directory."
   ]
  },
  {
   "cell_type": "markdown",
   "id": "388558e7-2297-4d77-bf8b-982f2b69836f",
   "metadata": {},
   "source": [
    "Q16. Is indentation required in python ?"
   ]
  },
  {
   "cell_type": "markdown",
   "id": "a415ff24-f78e-49d6-867c-a1093015d55a",
   "metadata": {},
   "source": [
    "Ans : Indentation refers to the spaces at the beginning of a code line. Where in other programming languages the indentation in code is for readability only, the indentation in Python is very important. Python uses indentation to indicate a block of code."
   ]
  }
 ],
 "metadata": {
  "kernelspec": {
   "display_name": "Python 3 (ipykernel)",
   "language": "python",
   "name": "python3"
  },
  "language_info": {
   "codemirror_mode": {
    "name": "ipython",
    "version": 3
   },
   "file_extension": ".py",
   "mimetype": "text/x-python",
   "name": "python",
   "nbconvert_exporter": "python",
   "pygments_lexer": "ipython3",
   "version": "3.10.8"
  }
 },
 "nbformat": 4,
 "nbformat_minor": 5
}
