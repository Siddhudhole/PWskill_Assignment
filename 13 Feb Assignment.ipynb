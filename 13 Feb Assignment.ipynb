{
 "cells": [
  {
   "cell_type": "markdown",
   "id": "5c9734b3-5e3e-4f14-a3ae-da034f28cf52",
   "metadata": {},
   "source": [
    "Q1. Explain why we have to use the Exception class while creating a Custom Exception."
   ]
  },
  {
   "cell_type": "markdown",
   "id": "7185b947-755e-4208-8532-42110665c31e",
   "metadata": {},
   "source": [
    "ANS : \n",
    "\n",
    "Exception class provides several methods that can be used to retrieve information about the exception, such as the error message, the traceback, and the error code. These methods can be called by code that catches the exception, and they can be used to display detailed information about the error to the user, or to log the error in a file or database for later analysis.\n",
    "\n",
    "Exception class provides a consistent interface for handling exceptions, which makes it easier to write code that can handle multiple types of exceptions in a uniform way. For example, if you have a block of code that can raise several different custom exceptions, you can write a single \"except\" block that catches the base Exception class, and then use \"if\" statements to handle each specific type of exception in a different way.\n",
    "    \n",
    "using the Exception class as the base class for a custom exception helps to ensure that the exception behaves correctly within the larger context of the program, and that it can be handled in a consistent and predictable way by other parts of the code."
   ]
  },
  {
   "cell_type": "markdown",
   "id": "676e797b-6940-4488-98e5-c0e318d0a4db",
   "metadata": {},
   "source": [
    "Q2. Write a python program to print Python Exception Hierarchy."
   ]
  },
  {
   "cell_type": "code",
   "execution_count": 1,
   "id": "8bc94fa7-1b38-4302-af52-7cb18d5aa6d4",
   "metadata": {},
   "outputs": [
    {
     "name": "stdout",
     "output_type": "stream",
     "text": [
      "TypeError\n",
      "-- FloatOperation\n",
      "-- MultipartConversionError\n",
      "StopAsyncIteration\n",
      "StopIteration\n",
      "ImportError\n",
      "-- ModuleNotFoundError\n",
      "-- ZipImportError\n",
      "OSError\n",
      "-- ConnectionError\n",
      "---- BrokenPipeError\n",
      "---- ConnectionAbortedError\n",
      "---- ConnectionRefusedError\n",
      "---- ConnectionResetError\n",
      "-- BlockingIOError\n",
      "-- ChildProcessError\n",
      "-- FileExistsError\n",
      "-- FileNotFoundError\n",
      "-- IsADirectoryError\n",
      "-- NotADirectoryError\n",
      "-- InterruptedError\n",
      "---- InterruptedSystemCall\n",
      "-- PermissionError\n",
      "-- ProcessLookupError\n",
      "-- TimeoutError\n",
      "-- UnsupportedOperation\n",
      "-- itimer_error\n",
      "-- herror\n",
      "-- gaierror\n",
      "-- SSLError\n",
      "---- SSLCertVerificationError\n",
      "---- SSLZeroReturnError\n",
      "---- SSLWantWriteError\n",
      "---- SSLWantReadError\n",
      "---- SSLSyscallError\n",
      "---- SSLEOFError\n",
      "-- Error\n",
      "---- SameFileError\n",
      "-- SpecialFileError\n",
      "-- ExecError\n",
      "-- ReadError\n",
      "-- URLError\n",
      "---- HTTPError\n",
      "---- ContentTooShortError\n",
      "-- BadGzipFile\n",
      "EOFError\n",
      "-- IncompleteReadError\n",
      "RuntimeError\n",
      "-- RecursionError\n",
      "-- NotImplementedError\n",
      "---- ZMQVersionError\n",
      "---- StdinNotImplementedError\n",
      "-- _DeadlockError\n",
      "-- BrokenBarrierError\n",
      "-- BrokenExecutor\n",
      "---- BrokenThreadPool\n",
      "-- SendfileNotAvailableError\n",
      "-- ExtractionError\n",
      "-- VariableError\n",
      "NameError\n",
      "-- UnboundLocalError\n",
      "AttributeError\n",
      "-- FrozenInstanceError\n",
      "SyntaxError\n",
      "-- IndentationError\n",
      "---- TabError\n",
      "LookupError\n",
      "-- IndexError\n",
      "-- KeyError\n",
      "---- NoSuchKernel\n",
      "---- UnknownBackend\n",
      "-- CodecRegistryError\n",
      "ValueError\n",
      "-- UnicodeError\n",
      "---- UnicodeEncodeError\n",
      "---- UnicodeDecodeError\n",
      "---- UnicodeTranslateError\n",
      "-- UnsupportedOperation\n",
      "-- JSONDecodeError\n",
      "-- SSLCertVerificationError\n",
      "-- Error\n",
      "-- UnsupportedDigestmodError\n",
      "-- IllegalMonthError\n",
      "-- IllegalWeekdayError\n",
      "-- ParserError\n",
      "-- ClassNotFound\n",
      "-- ClipboardEmpty\n",
      "-- MessageDefect\n",
      "---- NoBoundaryInMultipartDefect\n",
      "---- StartBoundaryNotFoundDefect\n",
      "---- CloseBoundaryNotFoundDefect\n",
      "---- FirstHeaderLineIsContinuationDefect\n",
      "---- MisplacedEnvelopeHeaderDefect\n",
      "---- MissingHeaderBodySeparatorDefect\n",
      "---- MultipartInvariantViolationDefect\n",
      "---- InvalidMultipartContentTransferEncodingDefect\n",
      "---- UndecodableBytesDefect\n",
      "---- InvalidBase64PaddingDefect\n",
      "---- InvalidBase64CharactersDefect\n",
      "---- InvalidBase64LengthDefect\n",
      "---- HeaderDefect\n",
      "-- MacroToEdit\n",
      "-- InvalidFileException\n",
      "-- UnequalIterablesError\n",
      "-- InvalidVersion\n",
      "-- _InvalidELFFileHeader\n",
      "-- InvalidWheelFilename\n",
      "-- InvalidSdistFilename\n",
      "-- InvalidSpecifier\n",
      "-- InvalidMarker\n",
      "-- UndefinedComparison\n",
      "-- UndefinedEnvironmentName\n",
      "-- InvalidRequirement\n",
      "---- RequirementParseError\n",
      "-- InvalidVersion\n",
      "AssertionError\n",
      "ArithmeticError\n",
      "-- FloatingPointError\n",
      "-- OverflowError\n",
      "-- ZeroDivisionError\n",
      "---- DivisionByZero\n",
      "---- DivisionUndefined\n",
      "-- DecimalException\n",
      "---- Clamped\n",
      "---- Rounded\n",
      "---- Inexact\n",
      "---- Subnormal\n",
      "---- DivisionByZero\n",
      "---- FloatOperation\n",
      "---- InvalidOperation\n",
      "SystemError\n",
      "-- CodecRegistryError\n",
      "ReferenceError\n",
      "MemoryError\n",
      "BufferError\n",
      "Warning\n",
      "-- UserWarning\n",
      "---- GetPassWarning\n",
      "---- FormatterWarning\n",
      "-- EncodingWarning\n",
      "-- DeprecationWarning\n",
      "---- ProvisionalWarning\n",
      "-- PendingDeprecationWarning\n",
      "-- SyntaxWarning\n",
      "-- RuntimeWarning\n",
      "---- ProactorSelectorThreadWarning\n",
      "---- UnknownTimezoneWarning\n",
      "---- PEP440Warning\n",
      "-- FutureWarning\n",
      "---- ProvisionalCompleterWarning\n",
      "-- ImportWarning\n",
      "-- UnicodeWarning\n",
      "-- BytesWarning\n",
      "-- ResourceWarning\n",
      "-- DeprecatedTzFormatWarning\n",
      "-- PkgResourcesDeprecationWarning\n",
      "_OptionError\n",
      "_Error\n",
      "error\n",
      "Verbose\n",
      "Error\n",
      "SubprocessError\n",
      "-- CalledProcessError\n",
      "-- TimeoutExpired\n",
      "TokenError\n",
      "StopTokenizing\n",
      "ClassFoundException\n",
      "EndOfBlock\n",
      "TraitError\n",
      "Error\n",
      "Error\n",
      "-- CancelledError\n",
      "-- TimeoutError\n",
      "-- InvalidStateError\n",
      "_GiveupOnSendfile\n",
      "error\n",
      "Incomplete\n",
      "TimeoutError\n",
      "InvalidStateError\n",
      "LimitOverrunError\n",
      "QueueEmpty\n",
      "QueueFull\n",
      "Empty\n",
      "Full\n",
      "ArgumentError\n",
      "ZMQBaseError\n",
      "-- ZMQError\n",
      "---- ContextTerminated\n",
      "---- Again\n",
      "---- InterruptedSystemCall\n",
      "-- ZMQBindError\n",
      "-- NotDone\n",
      "PickleError\n",
      "-- PicklingError\n",
      "-- UnpicklingError\n",
      "_Stop\n",
      "ArgumentError\n",
      "ArgumentTypeError\n",
      "ConfigError\n",
      "-- ConfigLoaderError\n",
      "---- ArgumentError\n",
      "-- ConfigFileNotFound\n",
      "ConfigurableError\n",
      "-- MultipleInstanceError\n",
      "ApplicationError\n",
      "error\n",
      "TimeoutError\n",
      "error\n",
      "ReturnValueIgnoredError\n",
      "KeyReuseError\n",
      "UnknownKeyError\n",
      "LeakedCallbackError\n",
      "BadYieldError\n",
      "ReturnValueIgnoredError\n",
      "Return\n",
      "InvalidPortNumber\n",
      "error\n",
      "LZMAError\n",
      "RegistryError\n",
      "_GiveupOnFastCopy\n",
      "Error\n",
      "-- NoSectionError\n",
      "-- DuplicateSectionError\n",
      "-- DuplicateOptionError\n",
      "-- NoOptionError\n",
      "-- InterpolationError\n",
      "---- InterpolationMissingOptionError\n",
      "---- InterpolationSyntaxError\n",
      "---- InterpolationDepthError\n",
      "-- ParsingError\n",
      "---- MissingSectionHeaderError\n",
      "NoIPAddresses\n",
      "BadZipFile\n",
      "LargeZipFile\n",
      "BadEntryPoint\n",
      "NoSuchEntryPoint\n",
      "DuplicateKernelError\n",
      "ErrorDuringImport\n",
      "NotOneValueFound\n",
      "CannotEval\n",
      "OptionError\n",
      "BdbQuit\n",
      "Restart\n",
      "ExceptionPexpect\n",
      "-- EOF\n",
      "-- TIMEOUT\n",
      "PtyProcessError\n",
      "FindCmdError\n",
      "HomeDirError\n",
      "ProfileDirError\n",
      "IPythonCoreError\n",
      "-- TryNext\n",
      "-- UsageError\n",
      "-- StdinNotImplementedError\n",
      "InputRejected\n",
      "GetoptError\n",
      "ErrorToken\n",
      "PrefilterError\n",
      "AliasError\n",
      "-- InvalidAliasError\n",
      "Error\n",
      "-- InterfaceError\n",
      "-- DatabaseError\n",
      "---- InternalError\n",
      "---- OperationalError\n",
      "---- ProgrammingError\n",
      "---- IntegrityError\n",
      "---- DataError\n",
      "---- NotSupportedError\n",
      "Warning\n",
      "SpaceInInput\n",
      "DOMException\n",
      "-- IndexSizeErr\n",
      "-- DomstringSizeErr\n",
      "-- HierarchyRequestErr\n",
      "-- WrongDocumentErr\n",
      "-- InvalidCharacterErr\n",
      "-- NoDataAllowedErr\n",
      "-- NoModificationAllowedErr\n",
      "-- NotFoundErr\n",
      "-- NotSupportedErr\n",
      "-- InuseAttributeErr\n",
      "-- InvalidStateErr\n",
      "-- SyntaxErr\n",
      "-- InvalidModificationErr\n",
      "-- NamespaceErr\n",
      "-- InvalidAccessErr\n",
      "-- ValidationErr\n",
      "ValidationError\n",
      "EditReadOnlyBuffer\n",
      "_Retry\n",
      "InvalidLayoutError\n",
      "HeightIsUnknownError\n",
      "ParserSyntaxError\n",
      "InternalParseError\n",
      "_PositionUpdatingFinished\n",
      "SimpleGetItemNotFound\n",
      "UncaughtAttributeError\n",
      "HasNoContext\n",
      "ParamIssue\n",
      "_JediError\n",
      "-- InternalError\n",
      "-- WrongVersion\n",
      "-- RefactoringError\n",
      "OnErrorLeaf\n",
      "InvalidPythonEnvironment\n",
      "MessageError\n",
      "-- MessageParseError\n",
      "---- HeaderParseError\n",
      "---- BoundaryError\n",
      "-- MultipartConversionError\n",
      "-- CharsetError\n",
      "Error\n",
      "HTTPException\n",
      "-- NotConnected\n",
      "-- InvalidURL\n",
      "-- UnknownProtocol\n",
      "-- UnknownTransferEncoding\n",
      "-- UnimplementedFileMode\n",
      "-- IncompleteRead\n",
      "-- ImproperConnectionState\n",
      "---- CannotSendRequest\n",
      "---- CannotSendHeader\n",
      "---- ResponseNotReady\n",
      "-- BadStatusLine\n",
      "---- RemoteDisconnected\n",
      "-- LineTooLong\n",
      "InteractivelyDefined\n",
      "KillEmbedded\n",
      "Error\n",
      "-- NoSuchProcess\n",
      "---- ZombieProcess\n",
      "-- AccessDenied\n",
      "-- TimeoutExpired\n",
      "_Ipv6UnsupportedError\n",
      "QueueEmpty\n",
      "QueueFull\n",
      "DebuggerInitializationError\n",
      "ExpatError\n",
      "Error\n",
      "-- ProtocolError\n",
      "-- ResponseError\n",
      "-- Fault\n",
      "ParseBaseException\n",
      "-- ParseException\n",
      "-- ParseFatalException\n",
      "---- ParseSyntaxException\n",
      "RecursiveGrammarException\n",
      "ResolutionError\n",
      "-- VersionConflict\n",
      "---- ContextualVersionConflict\n",
      "-- DistributionNotFound\n",
      "-- UnknownExtra\n",
      "_Error\n",
      "UnableToResolveVariableException\n",
      "InvalidTypeInArgsException\n"
     ]
    }
   ],
   "source": [
    "for exc in Exception.__subclasses__():\n",
    "    print(exc.__name__)\n",
    "    for sub_exc in exc.__subclasses__():\n",
    "        print(f'-- {sub_exc.__name__}')\n",
    "        for sub_sub_exc in sub_exc.__subclasses__():\n",
    "            print(f'---- {sub_sub_exc.__name__}')"
   ]
  },
  {
   "cell_type": "code",
   "execution_count": null,
   "id": "37c17aee-7437-46b9-abb9-bd82f24837fc",
   "metadata": {},
   "outputs": [],
   "source": []
  },
  {
   "cell_type": "markdown",
   "id": "6c5c82a4-3b75-44a7-8c52-db2b5cd8c45c",
   "metadata": {},
   "source": [
    "Q3. What errors are defined in the ArithmeticError class? Explain any two with an example."
   ]
  },
  {
   "cell_type": "markdown",
   "id": "8a63a013-3d32-4e3d-8bca-e57b38e3732e",
   "metadata": {},
   "source": [
    "ANS :\n",
    "    \n",
    "The ArithmeticError class is a built-in Python exception class that serves as the base class for a range of errors that occur during arithmetic operations, such as division by zero, numeric overflow or underflow, and invalid operations on numeric types."
   ]
  },
  {
   "cell_type": "markdown",
   "id": "11495d2e-eb88-4e7a-8b0f-a119dba2d392",
   "metadata": {},
   "source": [
    "1. ZeroDivisionError: This error occurs when you attempt to divide a number by zero. For example:"
   ]
  },
  {
   "cell_type": "code",
   "execution_count": 5,
   "id": "6d37a988-ec98-43ee-a6aa-db750b9d93f6",
   "metadata": {},
   "outputs": [
    {
     "name": "stdout",
     "output_type": "stream",
     "text": [
      "division by zero\n"
     ]
    }
   ],
   "source": [
    "try :\n",
    "    a = 1/0\n",
    "    \n",
    "except ZeroDivisionError as e :\n",
    "    print(e)"
   ]
  },
  {
   "cell_type": "code",
   "execution_count": 8,
   "id": "f1152558-18ae-43ff-8406-0d3ea0070d01",
   "metadata": {},
   "outputs": [
    {
     "name": "stdout",
     "output_type": "stream",
     "text": [
      "5.0\n",
      "25.0\n",
      "15625.0\n",
      "5.960464477539062e+16\n",
      "7.52316384526264e+83\n",
      "(34, 'Numerical result out of range')\n"
     ]
    }
   ],
   "source": [
    "try :\n",
    "    j = 5.0\n",
    "\n",
    "    for i in range(1, 1000):\n",
    "        j = j**i\n",
    "        print(j)\n",
    "        \n",
    "except OverflowError as e :\n",
    "    print(e)"
   ]
  },
  {
   "cell_type": "markdown",
   "id": "ec0658b7-f098-4bff-bc2a-602903e38b6e",
   "metadata": {},
   "source": [
    "Q4. Why LookupError class is used? Explain with an example KeyError and IndexError."
   ]
  },
  {
   "cell_type": "markdown",
   "id": "95277cd1-0d87-45e9-97f7-cf94317673f2",
   "metadata": {},
   "source": [
    "ANS :\n",
    "    \n",
    "The LookupError class is a built-in Python exception class that serves as the base class for a range of errors that occur when you try to access a value in a collection or mapping that does not exist. LookupError is a superclass of several more specific exception classes that are used for more precise handling of lookup errors."
   ]
  },
  {
   "cell_type": "markdown",
   "id": "173c7fb1-773c-4164-a374-2ffbcd1e0884",
   "metadata": {},
   "source": [
    "1. KeyError :"
   ]
  },
  {
   "cell_type": "code",
   "execution_count": 9,
   "id": "ce0e538d-1413-46b8-9999-dfaf61063bbd",
   "metadata": {},
   "outputs": [],
   "source": [
    "my_dict = {'name':'siddhu','age':21}"
   ]
  },
  {
   "cell_type": "code",
   "execution_count": 12,
   "id": "09cc55e3-1e48-43e4-91b6-41448bf36580",
   "metadata": {},
   "outputs": [
    {
     "name": "stdout",
     "output_type": "stream",
     "text": [
      "this key is not present in my_dict 'surname'\n"
     ]
    }
   ],
   "source": [
    "try :\n",
    "    my_dict['surname']\n",
    "    \n",
    "except KeyError as e :\n",
    "    print(\"this key is not present in my_dict\",e)"
   ]
  },
  {
   "cell_type": "markdown",
   "id": "5827331d-131e-452f-865c-7d78d1007f27",
   "metadata": {},
   "source": [
    "2. IndexError :\n",
    "    "
   ]
  },
  {
   "cell_type": "code",
   "execution_count": 13,
   "id": "5c39ae23-90a2-4f0e-bb06-e0ed6325d300",
   "metadata": {},
   "outputs": [],
   "source": [
    "l = [1,2,3,4]"
   ]
  },
  {
   "cell_type": "code",
   "execution_count": 14,
   "id": "59d3195b-6c19-479c-a612-5089f1828472",
   "metadata": {},
   "outputs": [
    {
     "name": "stdout",
     "output_type": "stream",
     "text": [
      "list index out of range\n"
     ]
    }
   ],
   "source": [
    "try :\n",
    "    \n",
    "    print(l[6])\n",
    "    \n",
    "except IndexError as e :\n",
    "    print(e)"
   ]
  },
  {
   "cell_type": "markdown",
   "id": "bb5eab1d-f883-4538-b8ae-766a94852a4b",
   "metadata": {},
   "source": [
    "Q5. Explain ImportError. What is ModuleNotFoundError?"
   ]
  },
  {
   "cell_type": "markdown",
   "id": "0b94eb80-2c82-452d-90ce-921d9706f983",
   "metadata": {},
   "source": [
    "ANS :\n",
    "    \n",
    "ImportError is a built-in exception class that is raised when an import statement fails to import a module. This can happen for a variety of reasons, such as the module not existing, a syntax error in the module, or the module depending on other modules that are not installed.\n",
    "\n",
    "ModuleNotFoundError: This is a subclass of ImportError that is raised specifically when a module cannot be found. It was introduced in Python 3.6 as a more specific version of ImportError.\n"
   ]
  },
  {
   "cell_type": "code",
   "execution_count": 15,
   "id": "5283881e-dae4-4d89-8596-b43485ac3131",
   "metadata": {},
   "outputs": [
    {
     "name": "stdout",
     "output_type": "stream",
     "text": [
      "No module named 'siddhu'\n"
     ]
    }
   ],
   "source": [
    "try :\n",
    "    \n",
    "    import siddhu as s \n",
    "    \n",
    "except ImportError as e:\n",
    "    print (e)"
   ]
  },
  {
   "cell_type": "markdown",
   "id": "4110d8cc-1481-4efb-ab81-67080157de08",
   "metadata": {},
   "source": [
    "Q6. List down some best practices for exception handling in python."
   ]
  },
  {
   "cell_type": "markdown",
   "id": "001a997d-e21c-4a0f-90d9-6b8a684ed0a7",
   "metadata": {},
   "source": [
    "ANS : \n",
    "    \n",
    "Be specific with your exception handling: Catch specific exceptions rather than using a broad exception like Exception or BaseException. This allows you to handle different types of errors in different ways.\n",
    "\n",
    "Keep exception handling blocks short: Exception handling blocks should only contain the minimum amount of code necessary to handle the exception. This makes the code easier to read and understand.\n",
    "\n",
    "Avoid using bare except: Instead of using a bare except clause, catch specific exceptions. This makes the code more robust and helps to avoid catching unexpected exceptions.\n",
    "\n",
    "Use finally for cleanup: If you need to perform cleanup operations (such as closing a file or releasing a resource) after an exception is handled, use a finally block to ensure that the cleanup code is always executed.\n",
    "\n",
    "Provide informative error messages: When an exception occurs, provide informative error messages that help the user understand the cause of the error and how to fix it.\n",
    "\n",
    "Don't suppress exceptions: Avoid suppressing exceptions by catching them and not doing anything with them. If you catch an exception, either handle it appropriately or re-raise it.\n",
    "\n",
    "Use custom exceptions when appropriate: If you need to raise an exception that is specific to your application or module, define a custom exception class that inherits from the appropriate built-in exception class.\n",
    "\n",
    "Use the logging module for error reporting: The logging module provides a powerful and flexible way to report errors and other messages in your code. Use it to provide detailed information about errors that occur during runtime."
   ]
  },
  {
   "cell_type": "code",
   "execution_count": null,
   "id": "203f4ffc-e902-40d8-83e2-95f70fd32d76",
   "metadata": {},
   "outputs": [],
   "source": []
  }
 ],
 "metadata": {
  "kernelspec": {
   "display_name": "Python 3 (ipykernel)",
   "language": "python",
   "name": "python3"
  },
  "language_info": {
   "codemirror_mode": {
    "name": "ipython",
    "version": 3
   },
   "file_extension": ".py",
   "mimetype": "text/x-python",
   "name": "python",
   "nbconvert_exporter": "python",
   "pygments_lexer": "ipython3",
   "version": "3.10.8"
  }
 },
 "nbformat": 4,
 "nbformat_minor": 5
}
