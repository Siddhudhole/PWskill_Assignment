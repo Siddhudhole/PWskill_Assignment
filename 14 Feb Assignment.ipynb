{
 "cells": [
  {
   "cell_type": "markdown",
   "id": "c8d5c0df-4e26-4568-902b-f0c1379e2714",
   "metadata": {},
   "source": [
    "Q1. What is multithreading in python? hy is it used? Name the module used to handle threads in python"
   ]
  },
  {
   "cell_type": "markdown",
   "id": "e40230b9-3c08-47e8-8fc9-97576b77414c",
   "metadata": {},
   "source": [
    "ANS :\n",
    "\n",
    "Multithreading in Python refers to the ability of a program to execute multiple threads concurrently. In a multithreaded program, the main program is divided into multiple independent parts, each of which can run concurrently, allowing for more efficient use of system resources and better performance.\n",
    "\n",
    "Multithreading is used in Python for a variety of reasons, including improving the performance of computationally intensive tasks, making efficient use of input/output operations, and creating responsive user interfaces. It is particularly useful in situations where a program needs to perform multiple tasks simultaneously.\n",
    "\n",
    "threading module is used to handle threads"
   ]
  },
  {
   "cell_type": "markdown",
   "id": "e7882cdc-b035-4d51-a95f-dc061411ce21",
   "metadata": {},
   "source": [
    "Q2. Why threading module used? rite the use of the following functions\n"
   ]
  },
  {
   "cell_type": "markdown",
   "id": "4b65b71f-4670-4d7b-b0a8-4829dbf1b481",
   "metadata": {},
   "source": [
    "The threading module is used in Python to create, manage, and work with threads. It provides a simple and effective way to create and control multiple threads, which can run simultaneously and independently within a Python program.\n",
    "\n",
    "Here are the uses of some of the functions provided by the threading module:\n",
    "\n",
    "activeCount(): This function returns the number of thread objects that are active in the current Python interpreter. It is used to get a count of the number of threads that are currently running, which can be useful for debugging and monitoring purposes.\n",
    "\n",
    "currentThread(): This function returns a reference to the current thread object, which represents the thread that is currently executing. It is used to get information about the current thread, such as its name, ID, and other attributes.\n",
    "\n",
    "enumerate(): This function returns a list of all thread objects that are active in the current Python interpreter. It is used to get a list of all the threads that are currently running, which can be useful for debugging and monitoring purposes. By default, the list includes the main thread and any active daemon threads."
   ]
  },
  {
   "cell_type": "markdown",
   "id": "15f109a4-0afe-4de5-be16-7b3887320d71",
   "metadata": {},
   "source": [
    "3. Explain the following functions"
   ]
  },
  {
   "cell_type": "markdown",
   "id": "91654049-d721-4f28-b354-4bf5a5f4c826",
   "metadata": {},
   "source": [
    "run(): This function is called by the start() function to start a new thread, and it is typically overridden by the programmer to define the behavior of the thread. The run() function contains the code that will run in the new thread, and it can be used to perform any task that can run concurrently with the main thread.\n",
    "\n",
    "start(): This function is used to start a new thread, and it calls the run() function of the thread object. When start() is called, a new thread is created and the run() function is executed in the new thread. It is important to note that start() should only be called once for each thread object.\n",
    "\n",
    "join(): This function is used to wait for a thread to complete its execution. When join() is called on a thread object, the calling thread is blocked until the thread being joined completes its execution. This can be useful for coordinating the execution of multiple threads in a program.\n",
    "\n",
    "isAlive(): This function is used to check whether a thread is currently executing or not. When called on a thread object, it returns True if the thread is still running, and False otherwise. This function can be useful for monitoring the status of a thread and coordinating the execution of multiple threads in a program."
   ]
  },
  {
   "cell_type": "markdown",
   "id": "5131c121-b05b-4f95-8569-ac35c18823a6",
   "metadata": {},
   "source": [
    "4. Write a python program to create two threads. Thread one must print the list of squares and thread\n",
    "two must print the list of cubes"
   ]
  },
  {
   "cell_type": "code",
   "execution_count": 6,
   "id": "317c261e-d481-4569-89a8-5c52effef11d",
   "metadata": {},
   "outputs": [],
   "source": [
    "def squares(limit):\n",
    "    for i in range(limit):\n",
    "        print(i**2)\n",
    "        \n",
    "def cubes(limit):\n",
    "    for i in range(limit):\n",
    "        print(i**3) "
   ]
  },
  {
   "cell_type": "code",
   "execution_count": 7,
   "id": "b2322092-a03d-4d5d-bd19-21204ef858ce",
   "metadata": {},
   "outputs": [],
   "source": [
    "import threading"
   ]
  },
  {
   "cell_type": "code",
   "execution_count": 12,
   "id": "87cef4b0-e534-4b05-ade3-8c935a401e3a",
   "metadata": {},
   "outputs": [],
   "source": [
    "squares_thread = [threading.Thread(target = squares, args=(11,))] "
   ]
  },
  {
   "cell_type": "code",
   "execution_count": 30,
   "id": "7f717d99-acb2-41f8-8f06-36a23c2afe16",
   "metadata": {},
   "outputs": [],
   "source": [
    "cubes_thread = [threading.Thread(target = cubes,args=(11,))]"
   ]
  },
  {
   "cell_type": "code",
   "execution_count": 14,
   "id": "c8e3ed23-c8b1-4db3-9611-f9c626633564",
   "metadata": {},
   "outputs": [
    {
     "name": "stdout",
     "output_type": "stream",
     "text": [
      "0\n",
      "1\n",
      "4\n",
      "9\n",
      "16\n",
      "25\n",
      "36\n",
      "49\n",
      "64\n",
      "81\n",
      "100\n"
     ]
    }
   ],
   "source": [
    "for t in squares_thread :\n",
    "    t.start()\n",
    "    t.join()"
   ]
  },
  {
   "cell_type": "code",
   "execution_count": 31,
   "id": "e58d79f1-432e-414c-a15e-4aa2fb27a1f0",
   "metadata": {},
   "outputs": [
    {
     "name": "stdout",
     "output_type": "stream",
     "text": [
      "0\n",
      "1\n",
      "8\n",
      "27\n",
      "64\n",
      "125\n",
      "216\n",
      "343\n",
      "512\n",
      "729\n",
      "1000\n"
     ]
    }
   ],
   "source": [
    "for t in cubes_thread :\n",
    "    t.start()\n",
    "    t.join\n",
    "    "
   ]
  },
  {
   "cell_type": "code",
   "execution_count": 23,
   "id": "6838bc6f-1c6a-4f72-93cb-bcebe44b04af",
   "metadata": {},
   "outputs": [
    {
     "data": {
      "text/plain": [
       "False"
      ]
     },
     "execution_count": 23,
     "metadata": {},
     "output_type": "execute_result"
    }
   ],
   "source": [
    "t.is_alive()"
   ]
  },
  {
   "cell_type": "markdown",
   "id": "992d556f-5d06-4547-824a-35e736380760",
   "metadata": {},
   "source": [
    "Q5. State advantages and disadvantages of multithreading"
   ]
  },
  {
   "cell_type": "markdown",
   "id": "ec747d4f-f47a-4c66-8df7-61b4b99331e1",
   "metadata": {},
   "source": [
    "Advantages:\n",
    "\n",
    "Improved performance:  \n",
    "\n",
    "Multithreading can improve the performance of a program by allowing it to execute multiple tasks simultaneously. This can be especially useful for computationally intensive tasks and I/O-bound tasks.\n",
    "\n",
    "Better resource utilization:\n",
    "\n",
    "Multithreading can allow a program to make more efficient use of system resources, such as CPU and memory, by using them more effectively across multiple threads.\n",
    "\n",
    "Increased responsiveness: \n",
    "\n",
    "Multithreading can improve the responsiveness of a program by allowing it to perform multiple tasks concurrently. This can make a program feel more interactive and responsive to user input.\n",
    "\n",
    "Modular design: \n",
    "\n",
    "Multithreading can allow a program to be designed in a more modular way, with different threads performing different tasks. This can make the code easier to understand, maintain, and extend."
   ]
  },
  {
   "cell_type": "markdown",
   "id": "f7b0d4d1-07af-4029-b50f-160d6f733a6a",
   "metadata": {},
   "source": [
    "Disadvantages:\n",
    "\n",
    "Complexity: Multithreading can add complexity to a program, making it more difficult to design, test, and debug. It can also introduce race conditions, deadlocks, and other synchronization issues.\n",
    "\n",
    "Resource contention: Multithreading can lead to resource contention, where multiple threads compete for the same resources, such as memory or I/O devices. This can cause performance degradation and synchronization issues.\n",
    "\n",
    "Overhead: Multithreading can add overhead to a program, as the operating system must manage multiple threads and context switches. This can lead to increased memory usage and slower performance.\n",
    "\n",
    "Debugging difficulty: Debugging multithreaded programs can be challenging, as thread interactions can be difficult to reproduce and diagnose."
   ]
  },
  {
   "cell_type": "markdown",
   "id": "afcb383c-1438-4dc0-b29f-656e4fe2ccac",
   "metadata": {},
   "source": [
    "Q6. Explain deadlocks and race conditions."
   ]
  },
  {
   "cell_type": "markdown",
   "id": "22245cfe-a5c4-4e37-80f9-094e3a1d41f9",
   "metadata": {},
   "source": [
    "A deadlock occurs when two or more threads are blocked, waiting for each other to release a resource that they need in order to proceed. This situation can occur when multiple threads are trying to acquire the same resources in a different order, or when there is a circular dependency between the resources. Deadlocks can result in a program becoming unresponsive or crashing, and they can be difficult to diagnose and resolve.\n",
    "\n",
    "A race condition occurs when two or more threads access a shared resource at the same time, and the final result of the operation depends on the order in which the threads execute. This situation can occur when threads are not properly synchronized, and they access shared resources in an unpredictable or inconsistent way. Race conditions can result in unexpected program behavior, such as data corruption, incorrect results, or crashes."
   ]
  }
 ],
 "metadata": {
  "kernelspec": {
   "display_name": "Python 3 (ipykernel)",
   "language": "python",
   "name": "python3"
  },
  "language_info": {
   "codemirror_mode": {
    "name": "ipython",
    "version": 3
   },
   "file_extension": ".py",
   "mimetype": "text/x-python",
   "name": "python",
   "nbconvert_exporter": "python",
   "pygments_lexer": "ipython3",
   "version": "3.10.8"
  }
 },
 "nbformat": 4,
 "nbformat_minor": 5
}
