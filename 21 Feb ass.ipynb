{
 "cells": [
  {
   "cell_type": "markdown",
   "id": "b4d8b73b-4853-48fa-851c-ce8845e7f2d7",
   "metadata": {},
   "source": [
    "Q1. What is Web Scraping? Why is it Used? Give three areas where Web Scraping is used to get data.\n",
    "\n",
    "ANS :  Web scraping refers to the automated process of extracting data from websites. This involves using software tools to crawl through the pages of a website, parse its contents, and extract specific information such as product prices, news articles, stock prices, and more.\n",
    "\n",
    "Web scraping is used for various reasons, such as:\n",
    "\n",
    "Market research: Companies can use web scraping to gather data on their competitors, such as their prices, products, and marketing strategies.\n",
    "\n",
    "Data mining: Researchers can use web scraping to collect and analyze data from social media platforms, news sites, and other sources to identify patterns and trends.\n",
    "\n",
    "Content aggregation: News sites and content providers can use web scraping to automatically gather information from different sources and present it in one place.\n",
    "\n",
    "\n",
    "Here are three areas where web scraping is commonly used to get data:\n",
    "\n",
    "E-commerce: Web scraping is used to collect data on product prices, reviews, and descriptions from e-commerce sites such as Amazon, eBay, and Walmart.\n",
    "\n",
    "Social media: Web scraping is used to collect data from social media platforms such as Twitter, Facebook, and LinkedIn, such as user profiles, posts, and engagement metrics.\n",
    "\n",
    "Real estate: Web scraping is used to collect data on real estate listings, such as property prices, features, and location data, from sites like Zillow, Realtor.com, and Redfin."
   ]
  },
  {
   "cell_type": "markdown",
   "id": "ed5362bd-7c52-4a9f-9ac2-afee41483cb4",
   "metadata": {},
   "source": [
    "Q2. What are the different methods used for Web Scraping?\n",
    "ANS : \n",
    "    \n",
    "BeautifulSoup: BeautifulSoup is a Python library that provides a simple and intuitive way to parse HTML and XML documents. It allows users to navigate the document tree and extract specific elements based on their tags, attributes, or text.\n",
    "\n",
    "Scrapy: Scrapy is a Python framework for web scraping that provides a more advanced and scalable approach to web scraping. It allows users to define rules for extracting data from websites and provides features such as middleware, pipelines, and spider management.\n",
    "\n",
    "Requests: Requests is a Python library that allows users to send HTTP requests and handle the responses. It is often used in combination with BeautifulSoup or other parsing libraries to scrape web pages."
   ]
  },
  {
   "cell_type": "markdown",
   "id": "3e9ddc1c-4f42-48d6-b00c-e6440a1f22e6",
   "metadata": {},
   "source": [
    "Q3. What is Beautiful Soup? Why is it used?\n",
    "\n",
    "ANS : \n",
    "    \n",
    "Beautiful Soup is a Python library that provides a simple and intuitive way to parse HTML and XML documents. It is often used for web scraping tasks that involve extracting data from websites.\n",
    "\n",
    "Easy to learn: Beautiful Soup provides a simple and intuitive API that is easy to learn and use, even for beginners.\n",
    "\n",
    "Flexible: Beautiful Soup can handle various types of HTML and XML documents, and can be used with different parsers and scraping techniques.\n",
    "\n",
    "Powerful: Beautiful Soup provides a range of methods for searching and filtering the document, allowing users to extract specific elements and data from websites.\n"
   ]
  },
  {
   "cell_type": "markdown",
   "id": "72faeb1b-47e7-4579-900f-6b06cbbf0fd7",
   "metadata": {},
   "source": [
    "Q4. Why is flask used in this Web Scraping project?\n",
    "\n",
    "ANS :\n",
    "    \n",
    "Flask is a lightweight and flexible web framework for Python that is often used for developing web applications and APIs. Flask provides a simple and easy-to-use interface for handling HTTP requests and responses, making it a good choice for web scraping projects that involve serving data over the web.\n",
    "\n",
    "In a web scraping project, Flask can be used to create a web server that serves the scraped data to users over HTTP. For example, a Flask application can be used to create an API that allows users to search for and retrieve specific data from a website.\n",
    "\n",
    "Flask provides several features that are useful for web scraping projects, such as:\n",
    "\n",
    "Routing: Flask allows users to define routes for handling HTTP requests, making it easy to create custom URLs for different parts of the application.\n",
    "\n",
    "Request handling: Flask provides a simple and flexible interface for handling HTTP requests, allowing users to extract data from request parameters, headers, and other attributes.\n",
    "\n",
    "Response generation: Flask provides a range of methods for generating HTTP responses, including JSON, HTML, and other formats. This allows users to serve scraped data in a variety of formats, depending on the needs of the application.\n",
    "\n",
    "Customization: Flask is a flexible framework that allows users to customize and extend its functionality using plugins and extensions. This makes it easy to add additional features and functionality to the web scraping project as needed."
   ]
  },
  {
   "cell_type": "markdown",
   "id": "9bbe02ec-368c-491f-9871-782a0e5a0070",
   "metadata": {},
   "source": [
    "Q5. Write the names of AWS services used in this project. Also, explain the use of each service."
   ]
  },
  {
   "cell_type": "code",
   "execution_count": null,
   "id": "06868356-df59-4d94-abe5-99522e153485",
   "metadata": {},
   "outputs": [],
   "source": [
    "ANS : \n",
    "    \n",
    "Use two services there are elastic beanstack, co"
   ]
  }
 ],
 "metadata": {
  "kernelspec": {
   "display_name": "Python 3 (ipykernel)",
   "language": "python",
   "name": "python3"
  },
  "language_info": {
   "codemirror_mode": {
    "name": "ipython",
    "version": 3
   },
   "file_extension": ".py",
   "mimetype": "text/x-python",
   "name": "python",
   "nbconvert_exporter": "python",
   "pygments_lexer": "ipython3",
   "version": "3.10.8"
  }
 },
 "nbformat": 4,
 "nbformat_minor": 5
}
