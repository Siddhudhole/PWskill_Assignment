{
 "cells": [
  {
   "cell_type": "markdown",
   "id": "1e6d5341-f2c6-4745-a70d-1f854336ff22",
   "metadata": {},
   "source": [
    "Q1, Create a vehicle class with an init method having instance variables as name_of_vehicle, max_speed and average_of_vehicle."
   ]
  },
  {
   "cell_type": "code",
   "execution_count": 1,
   "id": "dbdf7448-d37b-4208-92c4-dd3cd780bb3c",
   "metadata": {},
   "outputs": [],
   "source": [
    "class vehicle :\n",
    "    \n",
    "    def __init__(self,name_of_vehicle, max_speed,average_of_vehicle):\n",
    "        \n",
    "        self.name_of_vehicle = name_of_vehicle \n",
    "        self.max_speed = max_speed \n",
    "        self.average_of_vehicle  =  average_of_vehicle"
   ]
  },
  {
   "cell_type": "markdown",
   "id": "8d7d9b58-50e6-461e-a60a-c7357a3ed046",
   "metadata": {},
   "source": [
    "Q2. Create a child class car from the vehicle class created in Que 1, which will inherit the vehicle class. Create a method named seating_capacity which takes capacity as an argument and returns the name of the vehicle and its seating capacity."
   ]
  },
  {
   "cell_type": "code",
   "execution_count": 2,
   "id": "bc922463-10a6-4a9b-9eca-514c960e4f6c",
   "metadata": {},
   "outputs": [],
   "source": [
    "class Vehicle:\n",
    "    def __init__(self, name_of_vehicle, max_speed, average_of_vehicle):\n",
    "        self.name_of_vehicle = name_of_vehicle\n",
    "        self.max_speed = max_speed\n",
    "        self.average_of_vehicle = average_of_vehicle\n",
    "\n",
    "class Car(Vehicle):\n",
    "    def seating_capacity(self, capacity):\n",
    "        self.capacity = capacity\n",
    "        return self.name_of_vehicle, self.capacity "
   ]
  },
  {
   "cell_type": "code",
   "execution_count": 3,
   "id": "c5a8d6be-1200-44cf-85a1-591b0fa98fbe",
   "metadata": {},
   "outputs": [],
   "source": [
    "my_car = Car('BMW',150,20)"
   ]
  },
  {
   "cell_type": "code",
   "execution_count": 4,
   "id": "4b7dcab5-08cd-4947-89e9-96dedf713a84",
   "metadata": {},
   "outputs": [
    {
     "data": {
      "text/plain": [
       "('BMW', 4)"
      ]
     },
     "execution_count": 4,
     "metadata": {},
     "output_type": "execute_result"
    }
   ],
   "source": [
    "my_car.seating_capacity(4)"
   ]
  },
  {
   "cell_type": "markdown",
   "id": "1b4707a8-8ee5-4b3d-8570-add8b27b7e97",
   "metadata": {},
   "source": [
    "Q3. What is multiple inheritance? Write a python code to demonstrate multiple inheritance."
   ]
  },
  {
   "cell_type": "markdown",
   "id": "8c2d3bd2-7e66-48d6-9c05-2ed5da8e7bb4",
   "metadata": {},
   "source": [
    "ANS :  \n",
    "    \n",
    "Multiple inheritance is a feature in object-oriented programming (OOP) where a class can inherit attributes and methods from multiple parent classes. This allows the class to inherit characteristics from multiple sources, making the class more versatile and reusable."
   ]
  },
  {
   "cell_type": "code",
   "execution_count": 12,
   "id": "33a560b3-34f8-4b76-a123-01077cbd9eb6",
   "metadata": {},
   "outputs": [],
   "source": [
    "class  animal:\n",
    "    def __init__(self,name,species):\n",
    "        self.name = name \n",
    "        self.species = species \n",
    "        \n",
    "    def show_species(self):\n",
    "            print (\"I am a\", self.species)"
   ]
  },
  {
   "cell_type": "code",
   "execution_count": 13,
   "id": "ae9b4db0-6f35-49f6-80ca-dbf5e750a7aa",
   "metadata": {},
   "outputs": [],
   "source": [
    "class pet:\n",
    "    \n",
    "    def __init__(self,name,species,owner):\n",
    "        animal.__init__(self,name,species)\n",
    "        self.owner = owner \n",
    "        \n",
    "    def show_owner(self):\n",
    "        print(\"My owner is \",self.owner)"
   ]
  },
  {
   "cell_type": "code",
   "execution_count": 14,
   "id": "68cd9976-8a74-4862-83e4-adb0a8ff8ac7",
   "metadata": {},
   "outputs": [],
   "source": [
    "class dog(animal,pet):\n",
    "    def __init__(self,name,breed,owner):\n",
    "        animal.__init__(self,name,species=\"dog\")\n",
    "        owner.__init__(self,name,species='dog',owner=owner)\n",
    "        self.breed = breed\n",
    "    def show_breed(self):\n",
    "        print(\"I am a\", self.breed)"
   ]
  },
  {
   "cell_type": "code",
   "execution_count": 15,
   "id": "90e83173-4070-49da-8399-b89ac52e3f61",
   "metadata": {},
   "outputs": [],
   "source": [
    "dog = dog(\"Toni\",\"Gavathi\",'siddhu')"
   ]
  },
  {
   "cell_type": "code",
   "execution_count": 16,
   "id": "71b4bd3e-9aa9-45c7-b9f5-64217f21a703",
   "metadata": {},
   "outputs": [
    {
     "name": "stdout",
     "output_type": "stream",
     "text": [
      "I am a Gavathi\n"
     ]
    }
   ],
   "source": [
    "dog.show_breed()"
   ]
  },
  {
   "cell_type": "code",
   "execution_count": 18,
   "id": "91bc0565-7aed-4e6e-afce-91c50fc8f6f3",
   "metadata": {},
   "outputs": [
    {
     "name": "stdout",
     "output_type": "stream",
     "text": [
      "I am a dog\n"
     ]
    }
   ],
   "source": [
    "dog.show_species()"
   ]
  },
  {
   "cell_type": "markdown",
   "id": "6284a580-80b9-4360-809d-48d5749a8f0f",
   "metadata": {},
   "source": [
    "Q4. What are getter and setter in python? Create a class and create a getter and a setter method in this class."
   ]
  },
  {
   "cell_type": "code",
   "execution_count": 19,
   "id": "c94fe33e-67e6-469e-a035-d4cd31e8d87a",
   "metadata": {},
   "outputs": [],
   "source": [
    "class Bike :\n",
    "    def __init__(self,name,averag):\n",
    "        self.__name = name \n",
    "        self.__averag = averag \n",
    "        \n",
    "    @property    \n",
    "    def access_info (self):\n",
    "        return self.__name,self.__averag \n",
    "    \n",
    "    \n",
    "    @access_info.setter \n",
    "    def change_averag (self,new_averag):\n",
    "        self.__averag = new_averag \n",
    "        \n",
    "    @access_info.getter \n",
    "    def get_averag(self):\n",
    "        return( self.__averag)\n",
    "    "
   ]
  },
  {
   "cell_type": "code",
   "execution_count": 20,
   "id": "da59fca6-99b6-4524-97e8-96692b71b2dd",
   "metadata": {},
   "outputs": [],
   "source": [
    "honda = Bike('shine',60)"
   ]
  },
  {
   "cell_type": "code",
   "execution_count": 22,
   "id": "4c0b4ac5-7410-4c63-b4f3-f76e8e502c94",
   "metadata": {},
   "outputs": [
    {
     "data": {
      "text/plain": [
       "60"
      ]
     },
     "execution_count": 22,
     "metadata": {},
     "output_type": "execute_result"
    }
   ],
   "source": [
    "honda.get_averag"
   ]
  },
  {
   "cell_type": "code",
   "execution_count": 23,
   "id": "cd97daa2-ab65-49e9-8f39-bd307fa73f8b",
   "metadata": {},
   "outputs": [],
   "source": [
    "honda.change_averag = 55"
   ]
  },
  {
   "cell_type": "code",
   "execution_count": 24,
   "id": "18caea0c-5057-4fb8-b37c-b0ea2658c6bc",
   "metadata": {},
   "outputs": [
    {
     "data": {
      "text/plain": [
       "55"
      ]
     },
     "execution_count": 24,
     "metadata": {},
     "output_type": "execute_result"
    }
   ],
   "source": [
    "honda.get_averag"
   ]
  },
  {
   "cell_type": "code",
   "execution_count": 26,
   "id": "e251d449-0451-4182-a8d6-9bddc34f8ae8",
   "metadata": {},
   "outputs": [
    {
     "data": {
      "text/plain": [
       "('shine', 55)"
      ]
     },
     "execution_count": 26,
     "metadata": {},
     "output_type": "execute_result"
    }
   ],
   "source": [
    "honda.access_info"
   ]
  },
  {
   "cell_type": "markdown",
   "id": "9208bfa3-deb1-4b6a-81d4-a06d928fa8eb",
   "metadata": {},
   "source": [
    "Q5.What is method overriding in python? Write a python code to demonstrate method overriding."
   ]
  },
  {
   "cell_type": "markdown",
   "id": "fe8f00c0-8f3f-4b91-9580-1808117acdcb",
   "metadata": {},
   "source": [
    "ANS :\n",
    "    \n",
    "Method overriding is a feature in object-oriented programming (OOP) where a subclass provides a new implementation for a method that is already defined in its superclass. The new implementation in the subclass \"overrides\" the implementation in the superclass."
   ]
  },
  {
   "cell_type": "code",
   "execution_count": 27,
   "id": "a46898af-9baa-4abb-987f-0d3abdbdf5af",
   "metadata": {},
   "outputs": [],
   "source": [
    "class TV:\n",
    "    def make_sound(self):\n",
    "        print(\"play song \")\n",
    "\n",
    "class Sony_TV(TV):\n",
    "    def make_sound(self):\n",
    "        print(\"play adds\")"
   ]
  },
  {
   "cell_type": "code",
   "execution_count": 30,
   "id": "d7f36d78-138f-4e8e-ac4b-97110646b475",
   "metadata": {},
   "outputs": [],
   "source": [
    "my_TV = Sony_TV()"
   ]
  },
  {
   "cell_type": "code",
   "execution_count": 32,
   "id": "66c80737-079c-422c-ab65-5a76f58efd64",
   "metadata": {},
   "outputs": [
    {
     "name": "stdout",
     "output_type": "stream",
     "text": [
      "play adds\n"
     ]
    }
   ],
   "source": [
    "my_TV.make_sound()"
   ]
  },
  {
   "cell_type": "code",
   "execution_count": 37,
   "id": "68eb6725-baf8-4442-9297-816642e4dd58",
   "metadata": {},
   "outputs": [
    {
     "name": "stdout",
     "output_type": "stream",
     "text": [
      "play song \n"
     ]
    }
   ],
   "source": [
    "TV.make_sound(1)"
   ]
  }
 ],
 "metadata": {
  "kernelspec": {
   "display_name": "Python 3 (ipykernel)",
   "language": "python",
   "name": "python3"
  },
  "language_info": {
   "codemirror_mode": {
    "name": "ipython",
    "version": 3
   },
   "file_extension": ".py",
   "mimetype": "text/x-python",
   "name": "python",
   "nbconvert_exporter": "python",
   "pygments_lexer": "ipython3",
   "version": "3.10.8"
  }
 },
 "nbformat": 4,
 "nbformat_minor": 5
}
