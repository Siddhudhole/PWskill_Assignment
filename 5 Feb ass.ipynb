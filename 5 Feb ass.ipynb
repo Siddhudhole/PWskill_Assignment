{
 "cells": [
  {
   "cell_type": "markdown",
   "id": "9eb57245-2448-4651-9140-bbb671265613",
   "metadata": {},
   "source": [
    "Q1. Explain Class and Object with respect to Object-Oriented Programming. Give a suitable example."
   ]
  },
  {
   "cell_type": "markdown",
   "id": "84c246ce-cb6f-4f90-8b05-75d3b3f20d5e",
   "metadata": {},
   "source": [
    "ANS :  Class and Object are fundamental concepts in Object-Oriented Programming (OOP).\n",
    "\n",
    "Class:\n",
    "A class is a blueprint or a template for creating objects. It defines the properties and methods of the objects of a particular type.\n",
    "\n",
    "Object:\n",
    "An object is an instance of a class. It represents a specific entity with its own unique characteristics and behaviors defined by the class.\n",
    "\n",
    "For example, consider a class \"Car\". A class \"Car\" could have properties such as make, model, year, and color. The methods could include things like start, stop, drive, and accelerate. Each object of the class \"Car\" would represent a specific car with its own unique make, model, year, and color, and would have the ability to start, stop, drive, and accelerate.\n",
    "\n",
    "So, in this example, \"Car\" is the class and each specific car is an object of the class \"Car\"."
   ]
  },
  {
   "cell_type": "markdown",
   "id": "fa8e258f-b26f-452f-95ab-a91317ca7d59",
   "metadata": {},
   "source": [
    "Q2. Name the four pillars of OOPs."
   ]
  },
  {
   "cell_type": "markdown",
   "id": "37b1e40d-ff30-4e70-b478-7dfe18ccfd4d",
   "metadata": {},
   "source": [
    "ANS : \n",
    "    \n",
    "Abstraction: Hides the implementation details of an object and exposes only the relevant information to the outside world.\n",
    "\n",
    "Encapsulation: Bundles the data and functions that operate on the data within an object.\n",
    "\n",
    "Inheritance: Allows a new class to inherit the attributes and behaviors of an existing class, so you can reuse, extend, and modify the existing code.\n",
    "\n",
    "Polymorphism: Enables objects to take on multiple forms, allowing them to be used interchangeably in a program, even though each object may have different internal implementations."
   ]
  },
  {
   "cell_type": "markdown",
   "id": "1d0d8451-54be-47ed-a4eb-0e1d280616c5",
   "metadata": {},
   "source": [
    "Q3. Explain why the __init__() function is used. Give a suitable example."
   ]
  },
  {
   "cell_type": "markdown",
   "id": "b7c94ea4-88c9-4641-bfbb-1d43745dd1f8",
   "metadata": {},
   "source": [
    "ANS :  The __init__() function is a special method in Python that is called when an object of a class is created. It is also known as a constructor and is used to initialize the attributes of the object. The __init__() method is called automatically when a new object is created from a class, and it sets the initial state of the object."
   ]
  },
  {
   "cell_type": "code",
   "execution_count": 1,
   "id": "f85553a4-44c9-44df-9fd9-a0eaefb35a37",
   "metadata": {},
   "outputs": [],
   "source": [
    "class Person:\n",
    "    def __init__(self, name, age):\n",
    "        self.name = name\n",
    "        self.age = age"
   ]
  },
  {
   "cell_type": "markdown",
   "id": "358b3ff3-08cd-4970-8d0c-d1c7edb91d67",
   "metadata": {},
   "source": [
    "Q4. Why self is used in OOPs?"
   ]
  },
  {
   "cell_type": "markdown",
   "id": "8983ed93-1f8f-4314-bd27-e97b94597da0",
   "metadata": {},
   "source": [
    "ANS :  In Object-Oriented Programming (OOP), self is a special parameter that refers to the instance of the object that is calling a method. It is used to access the attributes and methods of the current object.\n",
    "\n",
    "When you define a method inside a class, the first parameter of the method is always self. When you call a method on an object, Python automatically passes the object instance as the first argument to the method. So, inside the method, self refers to the instance of the object that called the method."
   ]
  },
  {
   "cell_type": "code",
   "execution_count": 2,
   "id": "623a673d-2466-4bb5-bfde-76f4944d4d8e",
   "metadata": {},
   "outputs": [
    {
     "name": "stdout",
     "output_type": "stream",
     "text": [
      "Name: John Doe\n",
      "Age: 30\n"
     ]
    }
   ],
   "source": [
    "class Person:\n",
    "    def __init__(self, name, age):\n",
    "        self.name = name\n",
    "        self.age = age\n",
    "\n",
    "    def display(self):\n",
    "        print(\"Name:\", self.name)\n",
    "        print(\"Age:\", self.age)\n",
    "\n",
    "person = Person(\"John Doe\", 30)\n",
    "person.display()"
   ]
  },
  {
   "cell_type": "markdown",
   "id": "8aa189d6-2de1-4f64-abce-845e29aad139",
   "metadata": {},
   "source": [
    "Q5. What is inheritance? Give an example for each type of inheritance."
   ]
  },
  {
   "cell_type": "markdown",
   "id": "0083836e-8a80-4ad1-9116-c3dee666f248",
   "metadata": {},
   "source": [
    "ANS :  Inheritance is a mechanism in Object-Oriented Programming (OOP) that allows a new class to inherit the attributes and behaviors of an existing class. It provides a way to create a new class based on an existing class, so you can reuse, extend, and modify the existing code."
   ]
  },
  {
   "cell_type": "markdown",
   "id": "f7bd9f32-ae76-4677-ab48-e62de397eb12",
   "metadata": {},
   "source": [
    "Simple Inheritance: A child class inherits the properties and methods of a single parent class. For example, a \"Student\" class inherits the properties and methods of a \"Person\" class.\n",
    "\n",
    "Multiple Inheritance: A child class inherits the properties and methods of multiple parent classes. For example, a \"Manager\" class can inherit from both \"Employee\" and \"Person\" classes.\n",
    "\n",
    "Hierarchical Inheritance: Multiple child classes inherit from a single parent class. For example, \"Dog\", \"Cat\", and \"Horse\" classes can all inherit from an \"Animal\" class.\n",
    "\n",
    "Hybrid Inheritance: A combination of two or more types of inheritance, for example, a class can inherit properties from one parent class using multiple inheritance and also from another parent class using hierarchical inheritance."
   ]
  }
 ],
 "metadata": {
  "kernelspec": {
   "display_name": "Python 3 (ipykernel)",
   "language": "python",
   "name": "python3"
  },
  "language_info": {
   "codemirror_mode": {
    "name": "ipython",
    "version": 3
   },
   "file_extension": ".py",
   "mimetype": "text/x-python",
   "name": "python",
   "nbconvert_exporter": "python",
   "pygments_lexer": "ipython3",
   "version": "3.10.8"
  }
 },
 "nbformat": 4,
 "nbformat_minor": 5
}
