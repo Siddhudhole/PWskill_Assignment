{
 "cells": [
  {
   "cell_type": "markdown",
   "id": "56e46068-ee33-41b6-8577-4fa9da8c5f03",
   "metadata": {},
   "source": [
    "Q1. Which keyword is used to create a function? Create a function to return a list of odd numbers in the\n",
    "range of 1 to 25."
   ]
  },
  {
   "cell_type": "markdown",
   "id": "2753cf42-d355-4bff-8a1a-42bc3ca0f3db",
   "metadata": {},
   "source": [
    "ANS :    def \n"
   ]
  },
  {
   "cell_type": "code",
   "execution_count": 1,
   "id": "d390370d-cb9c-4d8d-9ad4-d26cdeb5dd09",
   "metadata": {},
   "outputs": [],
   "source": [
    "def odd():\n",
    "    l =[]\n",
    "    for i in range(1,26):\n",
    "        if i%2 != 0:\n",
    "            l.append(i)\n",
    "    return(l)\n",
    "        \n",
    "        "
   ]
  },
  {
   "cell_type": "code",
   "execution_count": 2,
   "id": "7d2a7994-e5a1-4d57-95c8-b58ce67810ba",
   "metadata": {},
   "outputs": [
    {
     "data": {
      "text/plain": [
       "[1, 3, 5, 7, 9, 11, 13, 15, 17, 19, 21, 23, 25]"
      ]
     },
     "execution_count": 2,
     "metadata": {},
     "output_type": "execute_result"
    }
   ],
   "source": [
    "odd()"
   ]
  },
  {
   "cell_type": "markdown",
   "id": "7208a52c-5944-4880-90af-36475c78a895",
   "metadata": {},
   "source": [
    "Q2. Why *args and **kwargs is used in some functions? Create a function each for *args and **kwargs\n",
    "to demonstrate their use."
   ]
  },
  {
   "cell_type": "markdown",
   "id": "de58506a-bc2f-43fa-a1b5-ececc2949cc7",
   "metadata": {},
   "source": [
    "ANS :  *args passes variable number of non-keyworded arguments and on which operation of the tuple can be performed. \n",
    "\n",
    "**kwargs passes variable number of keyword arguments dictionary to function on which operation of a dictionary can be performed. \n",
    "\n",
    "*args and **kwargs make the function flexible"
   ]
  },
  {
   "cell_type": "markdown",
   "id": "db766e31-cc74-42d5-8616-f887de186be8",
   "metadata": {},
   "source": [
    "Q3. What is an iterator in python? Name the method used to initialise the iterator object and the method\n",
    "used for iteration. Use these methods to print the first five elements of the given list \n",
    "[2, 4, 6, 8, 10, 12, 14,16, 18, 20]."
   ]
  },
  {
   "cell_type": "markdown",
   "id": "6b0a6042-f6f2-40e2-9318-bc6360738e8d",
   "metadata": {},
   "source": [
    "ANS :   An iterator in Python is an object that allows you to traverse through all the elements of a collection, such as a list.\n",
    "\n",
    "The method used to initialize the iterator object is \"iter()\". The method used for iteration is \"next()\".\n",
    "\n",
    "Here's an example of how to use these methods to print the first five elements of the given list:"
   ]
  },
  {
   "cell_type": "code",
   "execution_count": 4,
   "id": "c3a014bf-8ffd-452e-8c5c-16528e906251",
   "metadata": {},
   "outputs": [
    {
     "name": "stdout",
     "output_type": "stream",
     "text": [
      "2\n",
      "4\n",
      "6\n",
      "8\n",
      "10\n"
     ]
    }
   ],
   "source": [
    "number = [2, 4, 6, 8, 10, 12, 14, 16, 18, 20]\n",
    "num_iterator = iter(number) \n",
    "\n",
    "for i in range(5):\n",
    "    print(next(num_iterator))"
   ]
  },
  {
   "cell_type": "markdown",
   "id": "68c7671f-27c2-438a-9362-d6c4fabe612e",
   "metadata": {},
   "source": [
    "Q4. What is a generator function in python? Why yield keyword is used? Give an example of a generator\n",
    "function."
   ]
  },
  {
   "cell_type": "markdown",
   "id": "499bb809-0186-413b-98f6-906d152f288d",
   "metadata": {},
   "source": [
    "ANS :   A generator function is a special type of function in Python that can return multiple values, one at a time, using the \"yield\" keyword.\n",
    "\n",
    "The function automatically suspends and resumes its execution, keeping track of the state of the function between calls, \n",
    "so that multiple values can be generated one at a time. \n",
    "\n",
    "The \"yield\" keyword is used instead of \"return\" to return multiple values, one at a time, from the generator function.\n",
    "\n",
    "\n"
   ]
  },
  {
   "cell_type": "code",
   "execution_count": 5,
   "id": "e41b8ee1-50d8-4abd-9306-1a3b9524a0a3",
   "metadata": {},
   "outputs": [],
   "source": [
    "def febo(n):\n",
    "    a,b = 0,1 \n",
    "    for i in range(n):\n",
    "        yield a \n",
    "        a , b = b,a+b \n",
    "        "
   ]
  },
  {
   "cell_type": "code",
   "execution_count": 6,
   "id": "3d2fdef1-e116-47c8-864f-a0044b8cf5d3",
   "metadata": {},
   "outputs": [
    {
     "name": "stdout",
     "output_type": "stream",
     "text": [
      "0\n",
      "1\n",
      "1\n",
      "2\n",
      "3\n"
     ]
    }
   ],
   "source": [
    "for i in febo(5):\n",
    "    print(i)"
   ]
  },
  {
   "cell_type": "markdown",
   "id": "314fc603-8dc3-4b85-afe5-6b93016e23eb",
   "metadata": {},
   "source": [
    "Q5. Create a generator function for prime numbers less than 1000. Use the next() method to print the\n",
    "first 20 prime numbers."
   ]
  },
  {
   "cell_type": "code",
   "execution_count": 10,
   "id": "19e38a3c-994b-4e17-9d01-2311c9daa789",
   "metadata": {},
   "outputs": [
    {
     "name": "stdout",
     "output_type": "stream",
     "text": [
      "2\n",
      "3\n",
      "5\n",
      "7\n",
      "11\n",
      "13\n",
      "17\n",
      "19\n",
      "23\n",
      "29\n",
      "31\n",
      "37\n",
      "41\n",
      "43\n",
      "47\n"
     ]
    }
   ],
   "source": [
    "def prime_numbers(start, end):\n",
    "    for num in range(start, end + 1):\n",
    "        if all(num % i != 0 for i in range(2, int(num ** 0.5) + 1)):   # it will check for prime number\n",
    "            yield num\n",
    "\n",
    "prime_numbers_iter = iter(prime_numbers(2, 50))\n",
    "for i in range(15):\n",
    "    print(next(prime_numbers_iter))\n",
    "            \n"
   ]
  },
  {
   "cell_type": "markdown",
   "id": "abf9a171-91cc-4e82-af90-7a23e6f083fa",
   "metadata": {},
   "source": [
    "Q6. Write a python program to print the first 10 Fibonacci numbers using a while loop."
   ]
  },
  {
   "cell_type": "code",
   "execution_count": 26,
   "id": "e233fc9b-cfeb-436d-bbb1-74737a80404f",
   "metadata": {},
   "outputs": [
    {
     "name": "stdout",
     "output_type": "stream",
     "text": [
      "0\n",
      "1\n",
      "1\n",
      "2\n",
      "3\n",
      "5\n",
      "8\n",
      "13\n",
      "21\n",
      "34\n",
      "55\n"
     ]
    }
   ],
   "source": [
    " counter = 0 \n",
    "    \n",
    "a ,b = 0,1\n",
    "\n",
    "while counter <= 10 :\n",
    "    print (a)\n",
    "    a , b = b ,a+b \n",
    "    counter = counter + 1 "
   ]
  },
  {
   "cell_type": "markdown",
   "id": "b374c9e0-5797-46cb-bc22-9c3d7a35019c",
   "metadata": {},
   "source": [
    "Q7. Write a List Comprehension to iterate through the given string: ‘pwskills’.\n",
    "Expected output: ['p', 'w', 's', 'k', 'i', 'l', 'l', 's']"
   ]
  },
  {
   "cell_type": "code",
   "execution_count": 27,
   "id": "88a3d7af-1138-4c02-958f-fcf24e7c2363",
   "metadata": {},
   "outputs": [
    {
     "data": {
      "text/plain": [
       "['p', 'w', 's', 'k', 'i', 'l', 'l', 's']"
      ]
     },
     "execution_count": 27,
     "metadata": {},
     "output_type": "execute_result"
    }
   ],
   "source": [
    "s = 'pwskills' \n",
    "\n",
    "[i for i in s ]"
   ]
  },
  {
   "cell_type": "markdown",
   "id": "86a02342-2ca4-4ba4-b1ee-63392914c734",
   "metadata": {},
   "source": [
    "Q8. Write a python program to check whether a given number is Palindrome or not using a while loop."
   ]
  },
  {
   "cell_type": "code",
   "execution_count": 7,
   "id": "3996269d-0db9-4103-97d5-b2ca46434a77",
   "metadata": {},
   "outputs": [
    {
     "name": "stdin",
     "output_type": "stream",
     "text": [
      "Enter Number : 123\n"
     ]
    },
    {
     "name": "stdout",
     "output_type": "stream",
     "text": [
      "Number is not palindrome number\n"
     ]
    }
   ],
   "source": [
    "num = int(input(\"Enter Number :\"))\n",
    "reversed_num = 0\n",
    "\n",
    "while num != 0:\n",
    "    digit = num % 10\n",
    "    reversed_num = reversed_num * 10 + digit\n",
    "    num //= 10\n",
    "if num == reversed_num :\n",
    "        print(\"Number is palindrome number \")\n",
    "else :\n",
    "        print(\"Number is not palindrome number\")"
   ]
  },
  {
   "cell_type": "markdown",
   "id": "6d58587e-7a22-4ca2-aaee-166cab70c489",
   "metadata": {},
   "source": [
    "Q9. Write a code to print odd numbers from 1 to 100 using list comprehension."
   ]
  },
  {
   "cell_type": "code",
   "execution_count": 9,
   "id": "cd6a58e8-193a-4b10-8674-ea211d300d95",
   "metadata": {},
   "outputs": [
    {
     "data": {
      "text/plain": [
       "[1,\n",
       " 3,\n",
       " 5,\n",
       " 7,\n",
       " 9,\n",
       " 11,\n",
       " 13,\n",
       " 15,\n",
       " 17,\n",
       " 19,\n",
       " 21,\n",
       " 23,\n",
       " 25,\n",
       " 27,\n",
       " 29,\n",
       " 31,\n",
       " 33,\n",
       " 35,\n",
       " 37,\n",
       " 39,\n",
       " 41,\n",
       " 43,\n",
       " 45,\n",
       " 47,\n",
       " 49,\n",
       " 51,\n",
       " 53,\n",
       " 55,\n",
       " 57,\n",
       " 59,\n",
       " 61,\n",
       " 63,\n",
       " 65,\n",
       " 67,\n",
       " 69,\n",
       " 71,\n",
       " 73,\n",
       " 75,\n",
       " 77,\n",
       " 79,\n",
       " 81,\n",
       " 83,\n",
       " 85,\n",
       " 87,\n",
       " 89,\n",
       " 91,\n",
       " 93,\n",
       " 95,\n",
       " 97,\n",
       " 99]"
      ]
     },
     "execution_count": 9,
     "metadata": {},
     "output_type": "execute_result"
    }
   ],
   "source": [
    "l =[i for i in range(1,101)]\n",
    "[i for i in l if i%2!=0]"
   ]
  },
  {
   "cell_type": "code",
   "execution_count": null,
   "id": "e1cb2e43-5cb4-48d3-bd41-bcb5b3d59753",
   "metadata": {},
   "outputs": [],
   "source": []
  }
 ],
 "metadata": {
  "kernelspec": {
   "display_name": "Python 3 (ipykernel)",
   "language": "python",
   "name": "python3"
  },
  "language_info": {
   "codemirror_mode": {
    "name": "ipython",
    "version": 3
   },
   "file_extension": ".py",
   "mimetype": "text/x-python",
   "name": "python",
   "nbconvert_exporter": "python",
   "pygments_lexer": "ipython3",
   "version": "3.10.8"
  }
 },
 "nbformat": 4,
 "nbformat_minor": 5
}
