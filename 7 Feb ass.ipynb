{
 "cells": [
  {
   "cell_type": "markdown",
   "id": "f53f7281-2d53-4531-9299-ba1c1b033794",
   "metadata": {},
   "source": [
    "Q1. You are writing code for a company. The requirement of the company is that you create a python\n",
    "function that will check whether the password entered by the user is correct or not. The function should\n",
    "take the password as input and return the string “Valid Password” if the entered password follows the\n",
    "below-given password guidelines else it should return “Invalid Password”.\n",
    "\n",
    "Note:\n",
    "\n",
    "1. The Password should contain at least two uppercase letters and at least two lowercase letters.\n",
    "\n",
    "2. The Password should contain at least a number and three special characters.\n",
    "\n",
    "3. The length of the password should be 10 characters long."
   ]
  },
  {
   "cell_type": "code",
   "execution_count": 53,
   "id": "4b3772ae-11cf-4ed2-b96e-ab10e64eeeca",
   "metadata": {},
   "outputs": [],
   "source": [
    "def password_checker(password):\n",
    "    numbers = [str(i) for i in range(0,10)]\n",
    "    num = 0\n",
    "    upper = 0\n",
    "    lower = 0 \n",
    "    special = 0 \n",
    "    \n",
    "    lower_case = ['a', 'b', 'c', 'd', 'e', 'f', 'g', 'h', 'i', 'j', 'k', 'l', 'm', 'n', 'o', 'p', 'q', 'r', 's', 't', 'u', 'v', 'w', 'x', 'y', 'z']\n",
    "    \n",
    "    upper_case = ['A', 'B', 'C', 'D', 'E', 'F', 'G', 'H', 'I', 'J', 'K', 'L', 'M', 'N', 'O', 'P', 'Q', 'R', 'S', 'T', 'U', 'V', 'W', 'X', 'Y', 'Z']\n",
    "    \n",
    "    special_char = symbols = ['~','!','@','#','$','%','^','&','*','_','-','+','=']\n",
    "    \n",
    "    for i in password :\n",
    "        if i in numbers: \n",
    "            num +=1 \n",
    "        elif i in upper_case:\n",
    "            upper += 1\n",
    "        elif i in lower_case :\n",
    "            lower +=1 \n",
    "        elif i in special_char:\n",
    "            special +=1 \n",
    "            \n",
    "    if num>=1 and lower >=2 and upper >= 2 and special >=3:\n",
    "        return 'Valid password'\n",
    "    else :\n",
    "        return 'Invalid password' \n",
    "    \n",
    "        \n",
    "    "
   ]
  },
  {
   "cell_type": "code",
   "execution_count": 54,
   "id": "0b3877e2-d310-40bf-989d-46d2cefe6b51",
   "metadata": {},
   "outputs": [],
   "source": [
    "password = 'sHHsiddhu@#$%2358'"
   ]
  },
  {
   "cell_type": "code",
   "execution_count": 55,
   "id": "03ebb7a6-b1b0-45ab-b522-e737bb3e973a",
   "metadata": {},
   "outputs": [
    {
     "data": {
      "text/plain": [
       "'Valid password'"
      ]
     },
     "execution_count": 55,
     "metadata": {},
     "output_type": "execute_result"
    }
   ],
   "source": [
    "password_checker(password)"
   ]
  },
  {
   "cell_type": "code",
   "execution_count": 56,
   "id": "75eb2470-e107-4f41-869b-48fcff067217",
   "metadata": {},
   "outputs": [
    {
     "data": {
      "text/plain": [
       "'Invalid password'"
      ]
     },
     "execution_count": 56,
     "metadata": {},
     "output_type": "execute_result"
    }
   ],
   "source": [
    "password_checker('pass@2358')"
   ]
  },
  {
   "cell_type": "markdown",
   "id": "f13f4357-c289-4510-a1e9-64de0f92e629",
   "metadata": {},
   "source": [
    " Check if the string starts with a particular letter."
   ]
  },
  {
   "cell_type": "code",
   "execution_count": 8,
   "id": "f6497fd7-dbc3-4ee6-bb55-3b4aaec7343b",
   "metadata": {},
   "outputs": [],
   "source": [
    "l = '@password'"
   ]
  },
  {
   "cell_type": "code",
   "execution_count": 15,
   "id": "20bd58b2-aa91-43ae-ac1d-342b8cfd54c7",
   "metadata": {},
   "outputs": [],
   "source": [
    "result = lambda x : \"Yes\" if x[0] =='@' else \"No\"\n",
    " "
   ]
  },
  {
   "cell_type": "code",
   "execution_count": 16,
   "id": "7641f406-b252-4f97-b235-e1d8e2dd7577",
   "metadata": {},
   "outputs": [
    {
     "data": {
      "text/plain": [
       "'Yes'"
      ]
     },
     "execution_count": 16,
     "metadata": {},
     "output_type": "execute_result"
    }
   ],
   "source": [
    "result(l)"
   ]
  },
  {
   "cell_type": "markdown",
   "id": "f5fab697-5342-4eb3-aa54-c3e85286aed5",
   "metadata": {},
   "source": [
    "Find the squares of numbers from 1 to 10"
   ]
  },
  {
   "cell_type": "code",
   "execution_count": 27,
   "id": "4f202acf-b51e-404e-9d0c-c481afe091f2",
   "metadata": {},
   "outputs": [
    {
     "data": {
      "text/plain": [
       "[1, 4, 9, 16, 25, 36, 49, 64, 81, 100]"
      ]
     },
     "execution_count": 27,
     "metadata": {},
     "output_type": "execute_result"
    }
   ],
   "source": [
    "[ i**2 for i in range(1,11) ]"
   ]
  },
  {
   "cell_type": "markdown",
   "id": "3e729fbf-6bc6-4ad7-a51a-b67242cab809",
   "metadata": {},
   "source": [
    "Check if a given number is even"
   ]
  },
  {
   "cell_type": "code",
   "execution_count": 4,
   "id": "0c956a04-a55a-4088-92b7-b54539df5bae",
   "metadata": {},
   "outputs": [],
   "source": [
    "num_check = lambda x : \"Number is even\" if x%2==0 else \"Number not even\""
   ]
  },
  {
   "cell_type": "code",
   "execution_count": 5,
   "id": "f8943cef-61ef-4b3d-8773-6a48db890838",
   "metadata": {},
   "outputs": [
    {
     "data": {
      "text/plain": [
       "'Number is even'"
      ]
     },
     "execution_count": 5,
     "metadata": {},
     "output_type": "execute_result"
    }
   ],
   "source": [
    "num_check(10)"
   ]
  },
  {
   "cell_type": "markdown",
   "id": "1eb5161f-2e49-4e66-9e38-ea9b00f0f1d7",
   "metadata": {},
   "source": [
    " Filter odd numbers from the given list.\n",
    "[1,2,3,4,5,6,7,8,9,10]"
   ]
  },
  {
   "cell_type": "code",
   "execution_count": 29,
   "id": "b1b363fa-7b43-42b3-b39b-0c527e8fbc28",
   "metadata": {},
   "outputs": [],
   "source": [
    "l =  [1,2,3,4,5,6,7,8,9,10] "
   ]
  },
  {
   "cell_type": "code",
   "execution_count": 33,
   "id": "a0f5b8b7-6eab-4a33-bccb-d429ef84a30a",
   "metadata": {},
   "outputs": [
    {
     "data": {
      "text/plain": [
       "[1, 3, 5, 7, 9]"
      ]
     },
     "execution_count": 33,
     "metadata": {},
     "output_type": "execute_result"
    }
   ],
   "source": [
    "list(filter(lambda x: x%2==1 ,l))"
   ]
  },
  {
   "cell_type": "markdown",
   "id": "f7f0f075-cde3-4d8a-9c4e-f39e2dd8407c",
   "metadata": {},
   "source": [
    "Find the cube root of numbers from 1 to 10"
   ]
  },
  {
   "cell_type": "code",
   "execution_count": 34,
   "id": "ea1fc477-1bca-417f-ae9f-8f7d35f2707d",
   "metadata": {},
   "outputs": [
    {
     "data": {
      "text/plain": [
       "[0, 1, 8, 27, 64, 125, 216, 343, 512, 729, 1000]"
      ]
     },
     "execution_count": 34,
     "metadata": {},
     "output_type": "execute_result"
    }
   ],
   "source": [
    "[i**3 for i in range(0,11)]"
   ]
  },
  {
   "cell_type": "markdown",
   "id": "724e50f3-1a57-4a82-a6d1-1acf2f6d2c9f",
   "metadata": {},
   "source": [
    "Sort a list of integers into positive and negative integers lists.\n",
    "[1,2,3,4,5,6,-1,-2,-3,-4,-5,0]"
   ]
  },
  {
   "cell_type": "code",
   "execution_count": 45,
   "id": "53377969-d471-425a-8489-d81b09314ee7",
   "metadata": {},
   "outputs": [
    {
     "name": "stdout",
     "output_type": "stream",
     "text": [
      "positive_list =  [1, 2, 3, 4, 5, 6]\n",
      "negative_list =  [-1, -2, -3, -4, -5]\n"
     ]
    }
   ],
   "source": [
    "l3 =[1,2,3,4,5,6,-1,-2,-3,-4,-5,0]\n",
    "\n",
    "positive_list = list(filter(lambda x: x>0,l3))\n",
    "negative_list = list(filter(lambda x : x<0,l3))\n",
    "print('positive_list = ',positive_list)\n",
    "print('negative_list = ',negative_list)"
   ]
  },
  {
   "cell_type": "markdown",
   "id": "d6120b0f-722b-4e47-9225-24c2ca8a27be",
   "metadata": {},
   "source": [
    "Sort a list of tuples having fruit names and their quantity. [(\"mango\",99),(\"orange\",80), (\"grapes\", 1000)]"
   ]
  },
  {
   "cell_type": "code",
   "execution_count": 52,
   "id": "1e2ac1f7-676b-4d92-b969-528162f9f2fe",
   "metadata": {},
   "outputs": [
    {
     "name": "stdout",
     "output_type": "stream",
     "text": [
      "[('orange', 80), ('mango', 99), ('grapes', 1000)]\n"
     ]
    }
   ],
   "source": [
    "fruits = [(\"mango\", 99), (\"orange\", 80), (\"grapes\", 1000)]\n",
    "sorted_fruits = sorted(fruits, key=lambda x: x[1])\n",
    "print(sorted_fruits)\n",
    "                "
   ]
  }
 ],
 "metadata": {
  "kernelspec": {
   "display_name": "Python 3 (ipykernel)",
   "language": "python",
   "name": "python3"
  },
  "language_info": {
   "codemirror_mode": {
    "name": "ipython",
    "version": 3
   },
   "file_extension": ".py",
   "mimetype": "text/x-python",
   "name": "python",
   "nbconvert_exporter": "python",
   "pygments_lexer": "ipython3",
   "version": "3.10.8"
  }
 },
 "nbformat": 4,
 "nbformat_minor": 5
}
